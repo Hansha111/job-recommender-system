{
 "cells": [
  {
   "cell_type": "code",
   "execution_count": 33,
   "id": "3264102e-1f69-4b51-9be0-95e121e28102",
   "metadata": {},
   "outputs": [],
   "source": [
    "import pandas as pd\n",
    "import numpy as np"
   ]
  },
  {
   "cell_type": "code",
   "execution_count": 34,
   "id": "f04cf006-638b-487e-b34e-cd06cec5ef57",
   "metadata": {},
   "outputs": [],
   "source": [
    "df=pd.read_csv('jobss.csv')"
   ]
  },
  {
   "cell_type": "code",
   "execution_count": 35,
   "id": "1bc56081-205e-45c0-bdfd-1f3b5889cc3a",
   "metadata": {},
   "outputs": [
    {
     "data": {
      "text/html": [
       "<div>\n",
       "<style scoped>\n",
       "    .dataframe tbody tr th:only-of-type {\n",
       "        vertical-align: middle;\n",
       "    }\n",
       "\n",
       "    .dataframe tbody tr th {\n",
       "        vertical-align: top;\n",
       "    }\n",
       "\n",
       "    .dataframe thead th {\n",
       "        text-align: right;\n",
       "    }\n",
       "</style>\n",
       "<table border=\"1\" class=\"dataframe\">\n",
       "  <thead>\n",
       "    <tr style=\"text-align: right;\">\n",
       "      <th></th>\n",
       "      <th>Job Title</th>\n",
       "      <th>Unnamed: 1</th>\n",
       "      <th>Job Experience Required</th>\n",
       "      <th>Key Skills</th>\n",
       "      <th>Role Category</th>\n",
       "      <th>Location</th>\n",
       "      <th>Functional Area</th>\n",
       "      <th>Industry</th>\n",
       "      <th>Role</th>\n",
       "      <th>Longitude</th>\n",
       "      <th>Latitude</th>\n",
       "      <th>sal</th>\n",
       "    </tr>\n",
       "  </thead>\n",
       "  <tbody>\n",
       "    <tr>\n",
       "      <th>0</th>\n",
       "      <td>Digital Media Planner</td>\n",
       "      <td>NaN</td>\n",
       "      <td>5 - 10 yrs</td>\n",
       "      <td>Media Planning| Digital Media</td>\n",
       "      <td>Advertising</td>\n",
       "      <td>Mumbai</td>\n",
       "      <td>Marketing , Advertising , MR , PR , Media Plan...</td>\n",
       "      <td>Advertising, PR, MR, Event Management</td>\n",
       "      <td>Media Planning Executive/Manager</td>\n",
       "      <td>72.877393</td>\n",
       "      <td>19.075990</td>\n",
       "      <td>3855</td>\n",
       "    </tr>\n",
       "    <tr>\n",
       "      <th>1</th>\n",
       "      <td>Online Bidding Executive</td>\n",
       "      <td>NaN</td>\n",
       "      <td>2 - 5 yrs</td>\n",
       "      <td>pre sales| closing| software knowledge| clien...</td>\n",
       "      <td>Retail Sales</td>\n",
       "      <td>Pune,Pune</td>\n",
       "      <td>Sales , Retail , Business Development</td>\n",
       "      <td>IT-Software, Software Services</td>\n",
       "      <td>Sales Executive/Officer</td>\n",
       "      <td>73.854454</td>\n",
       "      <td>18.521428</td>\n",
       "      <td>2639</td>\n",
       "    </tr>\n",
       "    <tr>\n",
       "      <th>2</th>\n",
       "      <td>Trainee Research/ Research Executive- Hi- Tec...</td>\n",
       "      <td>NaN</td>\n",
       "      <td>0 - 1 yrs</td>\n",
       "      <td>Computer science| Fabrication| Quality check|...</td>\n",
       "      <td>R&amp;D</td>\n",
       "      <td>Gurgaon</td>\n",
       "      <td>Engineering Design , R&amp;D</td>\n",
       "      <td>Recruitment, Staffing</td>\n",
       "      <td>R&amp;D Executive</td>\n",
       "      <td>77.002700</td>\n",
       "      <td>28.428262</td>\n",
       "      <td>2156</td>\n",
       "    </tr>\n",
       "  </tbody>\n",
       "</table>\n",
       "</div>"
      ],
      "text/plain": [
       "                                           Job Title  Unnamed: 1  \\\n",
       "0                              Digital Media Planner         NaN   \n",
       "1                           Online Bidding Executive         NaN   \n",
       "2   Trainee Research/ Research Executive- Hi- Tec...         NaN   \n",
       "\n",
       "  Job Experience Required                                         Key Skills  \\\n",
       "0              5 - 10 yrs                      Media Planning| Digital Media   \n",
       "1               2 - 5 yrs   pre sales| closing| software knowledge| clien...   \n",
       "2               0 - 1 yrs   Computer science| Fabrication| Quality check|...   \n",
       "\n",
       "  Role Category   Location                                    Functional Area  \\\n",
       "0   Advertising     Mumbai  Marketing , Advertising , MR , PR , Media Plan...   \n",
       "1  Retail Sales  Pune,Pune              Sales , Retail , Business Development   \n",
       "2           R&D    Gurgaon                           Engineering Design , R&D   \n",
       "\n",
       "                                Industry                              Role  \\\n",
       "0  Advertising, PR, MR, Event Management  Media Planning Executive/Manager   \n",
       "1         IT-Software, Software Services           Sales Executive/Officer   \n",
       "2                  Recruitment, Staffing                     R&D Executive   \n",
       "\n",
       "   Longitude   Latitude   sal  \n",
       "0  72.877393  19.075990  3855  \n",
       "1  73.854454  18.521428  2639  \n",
       "2  77.002700  28.428262  2156  "
      ]
     },
     "execution_count": 35,
     "metadata": {},
     "output_type": "execute_result"
    }
   ],
   "source": [
    "df.head(3)"
   ]
  },
  {
   "cell_type": "code",
   "execution_count": null,
   "id": "40927963-ddfd-41e0-9b99-6aa068de843e",
   "metadata": {},
   "outputs": [],
   "source": []
  },
  {
   "cell_type": "code",
   "execution_count": 36,
   "id": "ac93155e-fb34-4da1-86ff-ed875eb06c5c",
   "metadata": {},
   "outputs": [],
   "source": [
    "df=df[['Job Title','Key Skills','Role Category','Location','Functional Area','Role']]"
   ]
  },
  {
   "cell_type": "code",
   "execution_count": 37,
   "id": "d8bbdbdb-b776-4ac6-84b9-e9803f0a48da",
   "metadata": {},
   "outputs": [
    {
     "data": {
      "text/html": [
       "<div>\n",
       "<style scoped>\n",
       "    .dataframe tbody tr th:only-of-type {\n",
       "        vertical-align: middle;\n",
       "    }\n",
       "\n",
       "    .dataframe tbody tr th {\n",
       "        vertical-align: top;\n",
       "    }\n",
       "\n",
       "    .dataframe thead th {\n",
       "        text-align: right;\n",
       "    }\n",
       "</style>\n",
       "<table border=\"1\" class=\"dataframe\">\n",
       "  <thead>\n",
       "    <tr style=\"text-align: right;\">\n",
       "      <th></th>\n",
       "      <th>Job Title</th>\n",
       "      <th>Key Skills</th>\n",
       "      <th>Role Category</th>\n",
       "      <th>Location</th>\n",
       "      <th>Functional Area</th>\n",
       "      <th>Role</th>\n",
       "    </tr>\n",
       "  </thead>\n",
       "  <tbody>\n",
       "    <tr>\n",
       "      <th>0</th>\n",
       "      <td>Digital Media Planner</td>\n",
       "      <td>Media Planning| Digital Media</td>\n",
       "      <td>Advertising</td>\n",
       "      <td>Mumbai</td>\n",
       "      <td>Marketing , Advertising , MR , PR , Media Plan...</td>\n",
       "      <td>Media Planning Executive/Manager</td>\n",
       "    </tr>\n",
       "    <tr>\n",
       "      <th>1</th>\n",
       "      <td>Online Bidding Executive</td>\n",
       "      <td>pre sales| closing| software knowledge| clien...</td>\n",
       "      <td>Retail Sales</td>\n",
       "      <td>Pune,Pune</td>\n",
       "      <td>Sales , Retail , Business Development</td>\n",
       "      <td>Sales Executive/Officer</td>\n",
       "    </tr>\n",
       "    <tr>\n",
       "      <th>2</th>\n",
       "      <td>Trainee Research/ Research Executive- Hi- Tec...</td>\n",
       "      <td>Computer science| Fabrication| Quality check|...</td>\n",
       "      <td>R&amp;D</td>\n",
       "      <td>Gurgaon</td>\n",
       "      <td>Engineering Design , R&amp;D</td>\n",
       "      <td>R&amp;D Executive</td>\n",
       "    </tr>\n",
       "  </tbody>\n",
       "</table>\n",
       "</div>"
      ],
      "text/plain": [
       "                                           Job Title  \\\n",
       "0                              Digital Media Planner   \n",
       "1                           Online Bidding Executive   \n",
       "2   Trainee Research/ Research Executive- Hi- Tec...   \n",
       "\n",
       "                                          Key Skills Role Category   Location  \\\n",
       "0                      Media Planning| Digital Media   Advertising     Mumbai   \n",
       "1   pre sales| closing| software knowledge| clien...  Retail Sales  Pune,Pune   \n",
       "2   Computer science| Fabrication| Quality check|...           R&D    Gurgaon   \n",
       "\n",
       "                                     Functional Area  \\\n",
       "0  Marketing , Advertising , MR , PR , Media Plan...   \n",
       "1              Sales , Retail , Business Development   \n",
       "2                           Engineering Design , R&D   \n",
       "\n",
       "                               Role  \n",
       "0  Media Planning Executive/Manager  \n",
       "1           Sales Executive/Officer  \n",
       "2                     R&D Executive  "
      ]
     },
     "execution_count": 37,
     "metadata": {},
     "output_type": "execute_result"
    }
   ],
   "source": [
    "df.head(3)"
   ]
  },
  {
   "cell_type": "code",
   "execution_count": 38,
   "id": "a1669d0b-765d-4db7-8591-a4f3105dea66",
   "metadata": {},
   "outputs": [
    {
     "data": {
      "text/plain": [
       "0                                  Digital Media Planner\n",
       "1                               Online Bidding Executive\n",
       "2       Trainee Research/ Research Executive- Hi- Tec...\n",
       "3                                      Technical Support\n",
       "4                      Software Test Engineer -hyderabad\n",
       "                             ...                        \n",
       "495     Finance & OPS - Technical Consultant (dynamic...\n",
       "496        Business Development Manager-digital / Export\n",
       "497                                Sr. Software Engineer\n",
       "498                                     Website Designer\n",
       "499      Tech caller hiring a huge number of Executives.\n",
       "Name: Job Title, Length: 500, dtype: object"
      ]
     },
     "execution_count": 38,
     "metadata": {},
     "output_type": "execute_result"
    }
   ],
   "source": [
    "df['Job Title']"
   ]
  },
  {
   "cell_type": "code",
   "execution_count": 39,
   "id": "f66f82cd-12a9-4285-a8da-cdafff68dc6c",
   "metadata": {},
   "outputs": [
    {
     "name": "stdout",
     "output_type": "stream",
     "text": [
      "<class 'pandas.core.frame.DataFrame'>\n",
      "RangeIndex: 500 entries, 0 to 499\n",
      "Data columns (total 6 columns):\n",
      " #   Column           Non-Null Count  Dtype \n",
      "---  ------           --------------  ----- \n",
      " 0   Job Title        489 non-null    object\n",
      " 1   Key Skills       500 non-null    object\n",
      " 2   Role Category    463 non-null    object\n",
      " 3   Location         489 non-null    object\n",
      " 4   Functional Area  489 non-null    object\n",
      " 5   Role             486 non-null    object\n",
      "dtypes: object(6)\n",
      "memory usage: 23.6+ KB\n"
     ]
    }
   ],
   "source": [
    "df.info()"
   ]
  },
  {
   "cell_type": "code",
   "execution_count": 40,
   "id": "0972e1d5-0ad0-47ed-b248-83b9ef5188c8",
   "metadata": {},
   "outputs": [
    {
     "data": {
      "text/plain": [
       "Job Title\n",
       "<class 'str'>      489\n",
       "<class 'float'>     11\n",
       "Name: count, dtype: int64"
      ]
     },
     "execution_count": 40,
     "metadata": {},
     "output_type": "execute_result"
    }
   ],
   "source": [
    "import ast\n",
    "df['Job Title'].apply(type).value_counts()"
   ]
  },
  {
   "cell_type": "code",
   "execution_count": 41,
   "id": "d3859ce8-c67d-4516-b028-3ebddf9372f6",
   "metadata": {},
   "outputs": [],
   "source": [
    "df['Job Title'] = df['Job Title'].astype(str)"
   ]
  },
  {
   "cell_type": "code",
   "execution_count": 42,
   "id": "c737f6a3-a2f1-464c-a088-64a6984d440b",
   "metadata": {},
   "outputs": [],
   "source": [
    "df['Job Title']=df['Job Title'].apply(lambda x: x.lower().split())"
   ]
  },
  {
   "cell_type": "code",
   "execution_count": 43,
   "id": "46f99e0f-6283-4dc2-b122-3b89bfe1eb00",
   "metadata": {},
   "outputs": [
    {
     "data": {
      "text/plain": [
       "0                          Media Planning| Digital Media\n",
       "1       pre sales| closing| software knowledge| clien...\n",
       "2       Computer science| Fabrication| Quality check|...\n",
       "3                                      Technical Support\n",
       "4       manual testing| test engineering| test cases|...\n",
       "                             ...                        \n",
       "495     microsoft dynamics ax| strategy implementatio...\n",
       "496     digital marketing| international sales| inter...\n",
       "497     Unix| PDF| Deployment| Informatica| Oracle| T...\n",
       "498     jQuery| Analytical| Wordpress| Conceptualizat...\n",
       "499     Outbound| Night shift| Recruitment| iPhone| E...\n",
       "Name: Key Skills, Length: 500, dtype: object"
      ]
     },
     "execution_count": 43,
     "metadata": {},
     "output_type": "execute_result"
    }
   ],
   "source": [
    "df['Key Skills'].astype(str)"
   ]
  },
  {
   "cell_type": "code",
   "execution_count": 44,
   "id": "68db3ee2-7f31-40d9-b96d-bc5df43fc084",
   "metadata": {},
   "outputs": [],
   "source": [
    "df['Key Skills']=df['Key Skills'].apply(lambda x: x.lower().split(\"|\"))"
   ]
  },
  {
   "cell_type": "code",
   "execution_count": 45,
   "id": "934692b4-2ea8-4ae3-8e75-1f48ff8825a1",
   "metadata": {},
   "outputs": [],
   "source": [
    "df['Functional Area']=df['Functional Area'].astype(str)"
   ]
  },
  {
   "cell_type": "code",
   "execution_count": 46,
   "id": "6402d5f6-9f50-48f6-a900-b27d2603dee8",
   "metadata": {},
   "outputs": [],
   "source": [
    "df['Functional Area']=df['Functional Area'].apply(lambda x: x.lower().split(\",\"))"
   ]
  },
  {
   "cell_type": "code",
   "execution_count": 47,
   "id": "754ff86d-eb78-4773-b2dd-e8c7afaaeb61",
   "metadata": {},
   "outputs": [],
   "source": [
    "df['Role_']=df['Role'].astype(str)"
   ]
  },
  {
   "cell_type": "code",
   "execution_count": 48,
   "id": "01c505c4-6834-403f-b360-4bcf87054287",
   "metadata": {},
   "outputs": [],
   "source": [
    "df['Role_']=df['Role_'].apply(lambda x: x.lower().split(\"/\"))"
   ]
  },
  {
   "cell_type": "code",
   "execution_count": 49,
   "id": "82c4a29f-28f9-4c8b-8994-e8a8f5a7f882",
   "metadata": {},
   "outputs": [
    {
     "data": {
      "text/plain": [
       "0                [media planning executive, manager]\n",
       "1                         [sales executive, officer]\n",
       "2                                    [r&d executive]\n",
       "3                       [technical support engineer]\n",
       "4                                 [testing engineer]\n",
       "                           ...                      \n",
       "495                                 [erp consultant]\n",
       "496            [sales, business development manager]\n",
       "497                             [software developer]\n",
       "498                                   [web designer]\n",
       "499    [associate, senior associate -(nontechnical)]\n",
       "Name: Role_, Length: 500, dtype: object"
      ]
     },
     "execution_count": 49,
     "metadata": {},
     "output_type": "execute_result"
    }
   ],
   "source": [
    "df['Role_']"
   ]
  },
  {
   "cell_type": "code",
   "execution_count": 50,
   "id": "2c386cc8-93de-4fcb-a7cc-4c3ac1135c04",
   "metadata": {},
   "outputs": [
    {
     "data": {
      "text/html": [
       "<div>\n",
       "<style scoped>\n",
       "    .dataframe tbody tr th:only-of-type {\n",
       "        vertical-align: middle;\n",
       "    }\n",
       "\n",
       "    .dataframe tbody tr th {\n",
       "        vertical-align: top;\n",
       "    }\n",
       "\n",
       "    .dataframe thead th {\n",
       "        text-align: right;\n",
       "    }\n",
       "</style>\n",
       "<table border=\"1\" class=\"dataframe\">\n",
       "  <thead>\n",
       "    <tr style=\"text-align: right;\">\n",
       "      <th></th>\n",
       "      <th>Job Title</th>\n",
       "      <th>Key Skills</th>\n",
       "      <th>Role Category</th>\n",
       "      <th>Location</th>\n",
       "      <th>Functional Area</th>\n",
       "      <th>Role</th>\n",
       "      <th>Role_</th>\n",
       "    </tr>\n",
       "  </thead>\n",
       "  <tbody>\n",
       "    <tr>\n",
       "      <th>0</th>\n",
       "      <td>[digital, media, planner]</td>\n",
       "      <td>[ media planning,  digital media]</td>\n",
       "      <td>Advertising</td>\n",
       "      <td>Mumbai</td>\n",
       "      <td>[marketing ,  advertising ,  mr ,  pr ,  media...</td>\n",
       "      <td>Media Planning Executive/Manager</td>\n",
       "      <td>[media planning executive, manager]</td>\n",
       "    </tr>\n",
       "    <tr>\n",
       "      <th>1</th>\n",
       "      <td>[online, bidding, executive]</td>\n",
       "      <td>[ pre sales,  closing,  software knowledge,  c...</td>\n",
       "      <td>Retail Sales</td>\n",
       "      <td>Pune,Pune</td>\n",
       "      <td>[sales ,  retail ,  business development]</td>\n",
       "      <td>Sales Executive/Officer</td>\n",
       "      <td>[sales executive, officer]</td>\n",
       "    </tr>\n",
       "    <tr>\n",
       "      <th>2</th>\n",
       "      <td>[trainee, research/, research, executive-, hi-...</td>\n",
       "      <td>[ computer science,  fabrication,  quality che...</td>\n",
       "      <td>R&amp;D</td>\n",
       "      <td>Gurgaon</td>\n",
       "      <td>[engineering design ,  r&amp;d]</td>\n",
       "      <td>R&amp;D Executive</td>\n",
       "      <td>[r&amp;d executive]</td>\n",
       "    </tr>\n",
       "    <tr>\n",
       "      <th>3</th>\n",
       "      <td>[technical, support]</td>\n",
       "      <td>[ technical support]</td>\n",
       "      <td>Admin/Maintenance/Security/Datawarehousing</td>\n",
       "      <td>Mumbai</td>\n",
       "      <td>[it software - application programming ,  main...</td>\n",
       "      <td>Technical Support Engineer</td>\n",
       "      <td>[technical support engineer]</td>\n",
       "    </tr>\n",
       "    <tr>\n",
       "      <th>4</th>\n",
       "      <td>[software, test, engineer, -hyderabad]</td>\n",
       "      <td>[ manual testing,  test engineering,  test cas...</td>\n",
       "      <td>Programming &amp; Design</td>\n",
       "      <td>Hyderabad</td>\n",
       "      <td>[it software - qa &amp; testing]</td>\n",
       "      <td>Testing Engineer</td>\n",
       "      <td>[testing engineer]</td>\n",
       "    </tr>\n",
       "    <tr>\n",
       "      <th>5</th>\n",
       "      <td>[opening, for, adobe, analytics, specialist]</td>\n",
       "      <td>[ adobe experience manager,  digital,  digital...</td>\n",
       "      <td>Programming &amp; Design</td>\n",
       "      <td>Pune</td>\n",
       "      <td>[it software - application programming ,  main...</td>\n",
       "      <td>System Analyst</td>\n",
       "      <td>[system analyst]</td>\n",
       "    </tr>\n",
       "    <tr>\n",
       "      <th>6</th>\n",
       "      <td>[sales-, fresher-for, leading, property, consu...</td>\n",
       "      <td>[ channel partners,  real estate,  negotiation...</td>\n",
       "      <td>Retail Sales</td>\n",
       "      <td>Bengaluru</td>\n",
       "      <td>[sales ,  retail ,  business development]</td>\n",
       "      <td>Sales Executive/Officer</td>\n",
       "      <td>[sales executive, officer]</td>\n",
       "    </tr>\n",
       "    <tr>\n",
       "      <th>7</th>\n",
       "      <td>[opportunity, for, azure, devops, architect, f...</td>\n",
       "      <td>[ tfs,  azure,  git,  vsts,  docker,  dynatrac...</td>\n",
       "      <td>Programming &amp; Design</td>\n",
       "      <td>Hyderabad</td>\n",
       "      <td>[it software - application programming ,  main...</td>\n",
       "      <td>Technical Architect</td>\n",
       "      <td>[technical architect]</td>\n",
       "    </tr>\n",
       "    <tr>\n",
       "      <th>8</th>\n",
       "      <td>[bde-, pune]</td>\n",
       "      <td>[ bde]</td>\n",
       "      <td>Institutional Sales</td>\n",
       "      <td>Pune</td>\n",
       "      <td>[sales ,  retail ,  business development]</td>\n",
       "      <td>Sales Executive/Officer</td>\n",
       "      <td>[sales executive, officer]</td>\n",
       "    </tr>\n",
       "    <tr>\n",
       "      <th>9</th>\n",
       "      <td>[technical, support/, product, support]</td>\n",
       "      <td>[ technical support,  support services,  appli...</td>\n",
       "      <td>Voice</td>\n",
       "      <td>Bengaluru</td>\n",
       "      <td>[ites ,  bpo ,  kpo ,  lpo ,  customer service...</td>\n",
       "      <td>Associate/Senior Associate -(Technical)</td>\n",
       "      <td>[associate, senior associate -(technical)]</td>\n",
       "    </tr>\n",
       "  </tbody>\n",
       "</table>\n",
       "</div>"
      ],
      "text/plain": [
       "                                           Job Title  \\\n",
       "0                          [digital, media, planner]   \n",
       "1                       [online, bidding, executive]   \n",
       "2  [trainee, research/, research, executive-, hi-...   \n",
       "3                               [technical, support]   \n",
       "4             [software, test, engineer, -hyderabad]   \n",
       "5       [opening, for, adobe, analytics, specialist]   \n",
       "6  [sales-, fresher-for, leading, property, consu...   \n",
       "7  [opportunity, for, azure, devops, architect, f...   \n",
       "8                                       [bde-, pune]   \n",
       "9            [technical, support/, product, support]   \n",
       "\n",
       "                                          Key Skills  \\\n",
       "0                  [ media planning,  digital media]   \n",
       "1  [ pre sales,  closing,  software knowledge,  c...   \n",
       "2  [ computer science,  fabrication,  quality che...   \n",
       "3                               [ technical support]   \n",
       "4  [ manual testing,  test engineering,  test cas...   \n",
       "5  [ adobe experience manager,  digital,  digital...   \n",
       "6  [ channel partners,  real estate,  negotiation...   \n",
       "7  [ tfs,  azure,  git,  vsts,  docker,  dynatrac...   \n",
       "8                                             [ bde]   \n",
       "9  [ technical support,  support services,  appli...   \n",
       "\n",
       "                                Role Category   Location  \\\n",
       "0                                 Advertising     Mumbai   \n",
       "1                                Retail Sales  Pune,Pune   \n",
       "2                                         R&D    Gurgaon   \n",
       "3  Admin/Maintenance/Security/Datawarehousing     Mumbai   \n",
       "4                        Programming & Design  Hyderabad   \n",
       "5                        Programming & Design       Pune   \n",
       "6                                Retail Sales  Bengaluru   \n",
       "7                        Programming & Design  Hyderabad   \n",
       "8                         Institutional Sales       Pune   \n",
       "9                                       Voice  Bengaluru   \n",
       "\n",
       "                                     Functional Area  \\\n",
       "0  [marketing ,  advertising ,  mr ,  pr ,  media...   \n",
       "1          [sales ,  retail ,  business development]   \n",
       "2                        [engineering design ,  r&d]   \n",
       "3  [it software - application programming ,  main...   \n",
       "4                       [it software - qa & testing]   \n",
       "5  [it software - application programming ,  main...   \n",
       "6          [sales ,  retail ,  business development]   \n",
       "7  [it software - application programming ,  main...   \n",
       "8          [sales ,  retail ,  business development]   \n",
       "9  [ites ,  bpo ,  kpo ,  lpo ,  customer service...   \n",
       "\n",
       "                                      Role  \\\n",
       "0         Media Planning Executive/Manager   \n",
       "1                  Sales Executive/Officer   \n",
       "2                            R&D Executive   \n",
       "3               Technical Support Engineer   \n",
       "4                         Testing Engineer   \n",
       "5                           System Analyst   \n",
       "6                  Sales Executive/Officer   \n",
       "7                      Technical Architect   \n",
       "8                  Sales Executive/Officer   \n",
       "9  Associate/Senior Associate -(Technical)   \n",
       "\n",
       "                                        Role_  \n",
       "0         [media planning executive, manager]  \n",
       "1                  [sales executive, officer]  \n",
       "2                             [r&d executive]  \n",
       "3                [technical support engineer]  \n",
       "4                          [testing engineer]  \n",
       "5                            [system analyst]  \n",
       "6                  [sales executive, officer]  \n",
       "7                       [technical architect]  \n",
       "8                  [sales executive, officer]  \n",
       "9  [associate, senior associate -(technical)]  "
      ]
     },
     "execution_count": 50,
     "metadata": {},
     "output_type": "execute_result"
    }
   ],
   "source": [
    "df.head(10)"
   ]
  },
  {
   "cell_type": "code",
   "execution_count": 51,
   "id": "5782ad96-2d71-4ac1-8c6b-1a34303cf957",
   "metadata": {},
   "outputs": [
    {
     "data": {
      "text/plain": [
       "Job Title           0\n",
       "Key Skills          0\n",
       "Role Category      37\n",
       "Location           11\n",
       "Functional Area     0\n",
       "Role               14\n",
       "Role_               0\n",
       "dtype: int64"
      ]
     },
     "execution_count": 51,
     "metadata": {},
     "output_type": "execute_result"
    }
   ],
   "source": [
    "df.isnull().sum()"
   ]
  },
  {
   "cell_type": "code",
   "execution_count": 52,
   "id": "129779e7-45b0-4f61-a2a8-4332c7c4a0fa",
   "metadata": {},
   "outputs": [],
   "source": [
    "df.dropna(inplace=True)"
   ]
  },
  {
   "cell_type": "code",
   "execution_count": 53,
   "id": "ba5f2faa-16e3-401e-bb82-4abfc823e013",
   "metadata": {},
   "outputs": [
    {
     "data": {
      "text/plain": [
       "Job Title          object\n",
       "Key Skills         object\n",
       "Role Category      object\n",
       "Location           object\n",
       "Functional Area    object\n",
       "Role               object\n",
       "Role_              object\n",
       "dtype: object"
      ]
     },
     "execution_count": 53,
     "metadata": {},
     "output_type": "execute_result"
    }
   ],
   "source": [
    "df.dtypes"
   ]
  },
  {
   "cell_type": "code",
   "execution_count": 54,
   "id": "2474731c-3e5a-4827-905d-fa95958a41b2",
   "metadata": {},
   "outputs": [
    {
     "data": {
      "text/plain": [
       "0                              [digital, media, planner]\n",
       "1                           [online, bidding, executive]\n",
       "2      [trainee, research/, research, executive-, hi-...\n",
       "3                                   [technical, support]\n",
       "4                 [software, test, engineer, -hyderabad]\n",
       "                             ...                        \n",
       "495    [finance, &, ops, -, technical, consultant, (d...\n",
       "496    [business, development, manager-digital, /, ex...\n",
       "497                            [sr., software, engineer]\n",
       "498                                  [website, designer]\n",
       "499    [tech, caller, hiring, a, huge, number, of, ex...\n",
       "Name: Job Title, Length: 463, dtype: object"
      ]
     },
     "execution_count": 54,
     "metadata": {},
     "output_type": "execute_result"
    }
   ],
   "source": [
    "df['Job Title'].apply(lambda x:[i.replace(\" \",\"\") for i in x])"
   ]
  },
  {
   "cell_type": "code",
   "execution_count": 55,
   "id": "d0ef4153-219d-479f-89d7-cd0ef884addf",
   "metadata": {},
   "outputs": [
    {
     "data": {
      "text/plain": [
       "0                          [mediaplanning, digitalmedia]\n",
       "1      [presales, closing, softwareknowledge, clients...\n",
       "2      [computerscience, fabrication, qualitycheck, i...\n",
       "3                                     [technicalsupport]\n",
       "4      [manualtesting, testengineering, testcases, we...\n",
       "                             ...                        \n",
       "495    [microsoftdynamicsax, strategyimplementation, ...\n",
       "496    [digitalmarketing, internationalsales, interna...\n",
       "497    [unix, pdf, deployment, informatica, oracle, t...\n",
       "498    [jquery, analytical, wordpress, conceptualizat...\n",
       "499    [outbound, nightshift, recruitment, iphone, em...\n",
       "Name: Key Skills, Length: 463, dtype: object"
      ]
     },
     "execution_count": 55,
     "metadata": {},
     "output_type": "execute_result"
    }
   ],
   "source": [
    "df['Key Skills'].apply(lambda x:[i.replace(\" \",\"\") for i in x])"
   ]
  },
  {
   "cell_type": "code",
   "execution_count": 56,
   "id": "5e8a3c95-84a4-4b3e-ac61-52192b5546ed",
   "metadata": {},
   "outputs": [
    {
     "data": {
      "text/plain": [
       "0                                     Advertising\n",
       "1                                    Retail Sales\n",
       "2                                             R&D\n",
       "3      Admin/Maintenance/Security/Datawarehousing\n",
       "4                            Programming & Design\n",
       "                          ...                    \n",
       "495          System Design/Implementation/ERP/CRM\n",
       "496                           Institutional Sales\n",
       "497                          Programming & Design\n",
       "498                                      Creative\n",
       "499                                         Voice\n",
       "Name: Role Category, Length: 463, dtype: object"
      ]
     },
     "execution_count": 56,
     "metadata": {},
     "output_type": "execute_result"
    }
   ],
   "source": [
    "df['Role Category']=df['Role Category'].astype(str)\n",
    "df['Role Category']"
   ]
  },
  {
   "cell_type": "code",
   "execution_count": 57,
   "id": "fe911d77-bfee-48fe-9cb6-c8db63ba9477",
   "metadata": {},
   "outputs": [],
   "source": [
    "df['Role Category']=df['Role Category'].apply(lambda x: x.lower().split(\"'\"))"
   ]
  },
  {
   "cell_type": "code",
   "execution_count": 58,
   "id": "f463382d-aea3-44ea-96bf-cdd4c9056478",
   "metadata": {},
   "outputs": [
    {
     "data": {
      "text/plain": [
       "0                                     [advertising]\n",
       "1                                    [retail sales]\n",
       "2                                             [r&d]\n",
       "3      [admin/maintenance/security/datawarehousing]\n",
       "4                            [programming & design]\n",
       "                           ...                     \n",
       "495          [system design/implementation/erp/crm]\n",
       "496                           [institutional sales]\n",
       "497                          [programming & design]\n",
       "498                                      [creative]\n",
       "499                                         [voice]\n",
       "Name: Role Category, Length: 463, dtype: object"
      ]
     },
     "execution_count": 58,
     "metadata": {},
     "output_type": "execute_result"
    }
   ],
   "source": [
    "df['Role Category']"
   ]
  },
  {
   "cell_type": "code",
   "execution_count": 59,
   "id": "255c4e95-48f3-4c59-ad5b-04a72d695b9b",
   "metadata": {},
   "outputs": [],
   "source": [
    "def collapse(L):\n",
    "    L1 = []\n",
    "    for i in L:\n",
    "         # Remove \"/\"\n",
    "        i = i.replace(\" \", \"\") \n",
    "        i = i.replace(\"/\", \" \") # Remove spaces\n",
    "        L1.append(i)\n",
    "    return L1"
   ]
  },
  {
   "cell_type": "code",
   "execution_count": 60,
   "id": "79664c02-d75c-4747-8b73-f421932539d7",
   "metadata": {},
   "outputs": [
    {
     "data": {
      "text/plain": [
       "0                                     [advertising]\n",
       "1                                     [retailsales]\n",
       "2                                             [r&d]\n",
       "3      [admin maintenance security datawarehousing]\n",
       "4                              [programming&design]\n",
       "                           ...                     \n",
       "495           [systemdesign implementation erp crm]\n",
       "496                            [institutionalsales]\n",
       "497                            [programming&design]\n",
       "498                                      [creative]\n",
       "499                                         [voice]\n",
       "Name: Role Category, Length: 463, dtype: object"
      ]
     },
     "execution_count": 60,
     "metadata": {},
     "output_type": "execute_result"
    }
   ],
   "source": [
    "df['Role Category']=df['Role Category'].apply(collapse)\n",
    "df['Role Category']"
   ]
  },
  {
   "cell_type": "code",
   "execution_count": 61,
   "id": "536c92af-be14-4e1f-9352-5ab835673cff",
   "metadata": {},
   "outputs": [
    {
     "data": {
      "text/plain": [
       "0         Mumbai\n",
       "1      Pune,Pune\n",
       "2        Gurgaon\n",
       "3         Mumbai\n",
       "4      Hyderabad\n",
       "         ...    \n",
       "495    Bengaluru\n",
       "496        Noida\n",
       "497    Hyderabad\n",
       "498      Gurgaon\n",
       "499      Kolkata\n",
       "Name: Location, Length: 463, dtype: object"
      ]
     },
     "execution_count": 61,
     "metadata": {},
     "output_type": "execute_result"
    }
   ],
   "source": [
    "df['Location']=df['Location'].astype(str)\n",
    "df['Location']"
   ]
  },
  {
   "cell_type": "code",
   "execution_count": 62,
   "id": "4a632a5e-fe75-40af-a99b-542761241ae8",
   "metadata": {},
   "outputs": [
    {
     "data": {
      "text/plain": [
       "0          [mumbai]\n",
       "1      [pune, pune]\n",
       "2         [gurgaon]\n",
       "3          [mumbai]\n",
       "4       [hyderabad]\n",
       "           ...     \n",
       "495     [bengaluru]\n",
       "496         [noida]\n",
       "497     [hyderabad]\n",
       "498       [gurgaon]\n",
       "499       [kolkata]\n",
       "Name: Location, Length: 463, dtype: object"
      ]
     },
     "execution_count": 62,
     "metadata": {},
     "output_type": "execute_result"
    }
   ],
   "source": [
    "df['Location']=df['Location'].apply(lambda x: x.lower().split(\",\"))\n",
    "df['Location']"
   ]
  },
  {
   "cell_type": "code",
   "execution_count": 63,
   "id": "5ad87d71-3ef5-423d-b08f-be22adaec901",
   "metadata": {},
   "outputs": [],
   "source": [
    "def collapse2(L):\n",
    "    L1 = []\n",
    "    for i in L:\n",
    "        i = i.replace(\" \", \"\") \n",
    "        L1.append(i)\n",
    "    return L1"
   ]
  },
  {
   "cell_type": "code",
   "execution_count": 64,
   "id": "e05194fa-dd77-4120-a763-a5acb98948b4",
   "metadata": {},
   "outputs": [],
   "source": [
    "df['Functional Area']=df['Functional Area'].apply(collapse2)"
   ]
  },
  {
   "cell_type": "code",
   "execution_count": 65,
   "id": "2bc21cc3-3489-447f-82d8-aca3df8a386b",
   "metadata": {},
   "outputs": [
    {
     "data": {
      "text/plain": [
       "0        [marketing, advertising, mr, pr, mediaplanning]\n",
       "1                   [sales, retail, businessdevelopment]\n",
       "2                               [engineeringdesign, r&d]\n",
       "3       [itsoftware-applicationprogramming, maintenance]\n",
       "4                                [itsoftware-qa&testing]\n",
       "                             ...                        \n",
       "495     [itsoftware-applicationprogramming, maintenance]\n",
       "496                 [sales, retail, businessdevelopment]\n",
       "497     [itsoftware-applicationprogramming, maintenance]\n",
       "498                   [design, creative, userexperience]\n",
       "499    [ites, bpo, kpo, lpo, customerservice, operati...\n",
       "Name: Functional Area, Length: 463, dtype: object"
      ]
     },
     "execution_count": 65,
     "metadata": {},
     "output_type": "execute_result"
    }
   ],
   "source": [
    "df['Functional Area']"
   ]
  },
  {
   "cell_type": "code",
   "execution_count": 66,
   "id": "65c81397-6382-436b-a953-2e55888f0554",
   "metadata": {},
   "outputs": [],
   "source": [
    "df['Role_']=df['Role_'].apply(collapse2)"
   ]
  },
  {
   "cell_type": "code",
   "execution_count": 67,
   "id": "252397b1-85a3-4681-8da4-a0d39f43ce6f",
   "metadata": {},
   "outputs": [
    {
     "data": {
      "text/plain": [
       "0                [mediaplanningexecutive, manager]\n",
       "1                        [salesexecutive, officer]\n",
       "2                                   [r&dexecutive]\n",
       "3                       [technicalsupportengineer]\n",
       "4                                [testingengineer]\n",
       "                          ...                     \n",
       "495                                [erpconsultant]\n",
       "496            [sales, businessdevelopmentmanager]\n",
       "497                            [softwaredeveloper]\n",
       "498                                  [webdesigner]\n",
       "499    [associate, seniorassociate-(nontechnical)]\n",
       "Name: Role_, Length: 463, dtype: object"
      ]
     },
     "execution_count": 67,
     "metadata": {},
     "output_type": "execute_result"
    }
   ],
   "source": [
    "df['Role_']"
   ]
  },
  {
   "cell_type": "code",
   "execution_count": 68,
   "id": "26e178de-3103-4fb8-a00d-328ae6d6f947",
   "metadata": {},
   "outputs": [],
   "source": [
    "df['tags']=df['Job Title']+df['Key Skills']+df['Role Category']+df['Location']+df['Functional Area']+df['Role_']"
   ]
  },
  {
   "cell_type": "code",
   "execution_count": 69,
   "id": "95f4fae9-b021-4d34-8e2e-38e335614324",
   "metadata": {},
   "outputs": [
    {
     "data": {
      "text/plain": [
       "0      [digital, media, planner,  media planning,  di...\n",
       "1      [online, bidding, executive,  pre sales,  clos...\n",
       "2      [trainee, research/, research, executive-, hi-...\n",
       "3      [technical, support,  technical support, admin...\n",
       "4      [software, test, engineer, -hyderabad,  manual...\n",
       "                             ...                        \n",
       "495    [finance, &, ops, -, technical, consultant, (d...\n",
       "496    [business, development, manager-digital, /, ex...\n",
       "497    [sr., software, engineer,  unix,  pdf,  deploy...\n",
       "498    [website, designer,  jquery,  analytical,  wor...\n",
       "499    [tech, caller, hiring, a, huge, number, of, ex...\n",
       "Name: tags, Length: 463, dtype: object"
      ]
     },
     "execution_count": 69,
     "metadata": {},
     "output_type": "execute_result"
    }
   ],
   "source": [
    "df['tags']"
   ]
  },
  {
   "cell_type": "code",
   "execution_count": 70,
   "id": "4941aba8-cd73-4f96-bb55-9bdc14ca4849",
   "metadata": {},
   "outputs": [],
   "source": [
    "newdf=df.drop(columns=['Key Skills','Role Category','Job Title','Location','Functional Area','Role_'])"
   ]
  },
  {
   "cell_type": "code",
   "execution_count": 71,
   "id": "77c98f50-2965-4221-9f10-97e20acb0de6",
   "metadata": {},
   "outputs": [
    {
     "data": {
      "text/html": [
       "<div>\n",
       "<style scoped>\n",
       "    .dataframe tbody tr th:only-of-type {\n",
       "        vertical-align: middle;\n",
       "    }\n",
       "\n",
       "    .dataframe tbody tr th {\n",
       "        vertical-align: top;\n",
       "    }\n",
       "\n",
       "    .dataframe thead th {\n",
       "        text-align: right;\n",
       "    }\n",
       "</style>\n",
       "<table border=\"1\" class=\"dataframe\">\n",
       "  <thead>\n",
       "    <tr style=\"text-align: right;\">\n",
       "      <th></th>\n",
       "      <th>Role</th>\n",
       "      <th>tags</th>\n",
       "    </tr>\n",
       "  </thead>\n",
       "  <tbody>\n",
       "    <tr>\n",
       "      <th>0</th>\n",
       "      <td>Media Planning Executive/Manager</td>\n",
       "      <td>[digital, media, planner,  media planning,  di...</td>\n",
       "    </tr>\n",
       "    <tr>\n",
       "      <th>1</th>\n",
       "      <td>Sales Executive/Officer</td>\n",
       "      <td>[online, bidding, executive,  pre sales,  clos...</td>\n",
       "    </tr>\n",
       "    <tr>\n",
       "      <th>2</th>\n",
       "      <td>R&amp;D Executive</td>\n",
       "      <td>[trainee, research/, research, executive-, hi-...</td>\n",
       "    </tr>\n",
       "    <tr>\n",
       "      <th>3</th>\n",
       "      <td>Technical Support Engineer</td>\n",
       "      <td>[technical, support,  technical support, admin...</td>\n",
       "    </tr>\n",
       "    <tr>\n",
       "      <th>4</th>\n",
       "      <td>Testing Engineer</td>\n",
       "      <td>[software, test, engineer, -hyderabad,  manual...</td>\n",
       "    </tr>\n",
       "  </tbody>\n",
       "</table>\n",
       "</div>"
      ],
      "text/plain": [
       "                               Role  \\\n",
       "0  Media Planning Executive/Manager   \n",
       "1           Sales Executive/Officer   \n",
       "2                     R&D Executive   \n",
       "3        Technical Support Engineer   \n",
       "4                  Testing Engineer   \n",
       "\n",
       "                                                tags  \n",
       "0  [digital, media, planner,  media planning,  di...  \n",
       "1  [online, bidding, executive,  pre sales,  clos...  \n",
       "2  [trainee, research/, research, executive-, hi-...  \n",
       "3  [technical, support,  technical support, admin...  \n",
       "4  [software, test, engineer, -hyderabad,  manual...  "
      ]
     },
     "execution_count": 71,
     "metadata": {},
     "output_type": "execute_result"
    }
   ],
   "source": [
    "newdf.head()"
   ]
  },
  {
   "cell_type": "code",
   "execution_count": 72,
   "id": "41e39e8d-120e-4ea1-806c-e5c729ff0567",
   "metadata": {},
   "outputs": [],
   "source": [
    "newdf['tags'] = newdf['tags'].apply(lambda x: \" \".join(x) if isinstance(x, list) else x)"
   ]
  },
  {
   "cell_type": "code",
   "execution_count": 73,
   "id": "0b8aedb3-148b-4699-9d6e-175813315480",
   "metadata": {},
   "outputs": [],
   "source": [
    "import nltk"
   ]
  },
  {
   "cell_type": "code",
   "execution_count": 74,
   "id": "accb8260-126b-4150-8518-e72df1d4d79b",
   "metadata": {},
   "outputs": [],
   "source": [
    "from nltk.stem.porter import PorterStemmer\n",
    "ps=PorterStemmer()"
   ]
  },
  {
   "cell_type": "code",
   "execution_count": 75,
   "id": "f470d78a-e656-41f6-9309-1dd737720cb6",
   "metadata": {},
   "outputs": [],
   "source": [
    "def stem(text):\n",
    "    y=[]\n",
    "    for i in text.split():\n",
    "        y.append(ps.stem(i))\n",
    "    return \" \".join(y)    \n"
   ]
  },
  {
   "cell_type": "code",
   "execution_count": 76,
   "id": "a8e9ffd5-057d-4bab-8bdd-ba71c93ef67d",
   "metadata": {},
   "outputs": [],
   "source": [
    "newdf['tags']=newdf['tags'].apply(stem)"
   ]
  },
  {
   "cell_type": "code",
   "execution_count": 77,
   "id": "8a57eedd-548e-4cf5-8b3e-30ae97ca3ae7",
   "metadata": {},
   "outputs": [],
   "source": [
    "from sklearn.feature_extraction.text import CountVectorizer\n",
    "cv = CountVectorizer(max_features=5000,stop_words='english')"
   ]
  },
  {
   "cell_type": "code",
   "execution_count": 78,
   "id": "a039abed-a5ff-4a49-8181-7b8c58411791",
   "metadata": {},
   "outputs": [],
   "source": [
    "vector = cv.fit_transform(newdf['tags']).toarray()"
   ]
  },
  {
   "cell_type": "code",
   "execution_count": 79,
   "id": "47e91f19-7bf3-4084-831e-bab8d31899ed",
   "metadata": {},
   "outputs": [
    {
     "data": {
      "text/plain": [
       "(463, 1798)"
      ]
     },
     "execution_count": 79,
     "metadata": {},
     "output_type": "execute_result"
    }
   ],
   "source": [
    "vector.shape"
   ]
  },
  {
   "cell_type": "code",
   "execution_count": 80,
   "id": "aaa4e71d-cbdd-4e67-9b45-847772fbf00f",
   "metadata": {},
   "outputs": [
    {
     "name": "stdout",
     "output_type": "stream",
     "text": [
      "['000cr' '000farm' '0097' '10' '11g'\n",
      " '12yearsworkexperienceinindustrythroughconsultingworkorwithinanindustryleader'\n",
      " '14' '1institutewouldberequired' '1mg' '2008' '20th' '24k' '26k' '27001'\n",
      " '29th' '35k' '365' '3billion' '3d' '3g' '3gpp' '3year' '48k' '4g' '5th'\n",
      " '5yrs' '9001' 'abil' 'academ' 'accent' 'accenttrain' 'accentur' 'accept'\n",
      " 'access' 'account' 'accounts' 'accountsexecut' 'accountsmanag' 'achiev'\n",
      " 'acombinationofexperienceispreferred' 'acquisit' 'acquisition' 'action'\n",
      " 'activ' 'activemq' 'ad' 'adeeba' 'adf' 'aditya' 'adm' 'admin' 'administr'\n",
      " 'admiss' 'ado' 'adob' 'advanc'\n",
      " 'advancedanalyticsconceptsandalgorithmstextmining' 'advertis' 'advisor'\n",
      " 'advisori' 'adword' 'aem' 'aerospac' 'affair' 'affin' 'agenc' 'ageni'\n",
      " 'agent' 'aggress' 'agil' 'agm' 'agra' 'ahmedabad' 'air' 'airlin' 'ait'\n",
      " 'ajax'\n",
      " 'akeyenablerofourservicesisleveragingdataindeliveringclientsolutions'\n",
      " 'algorithm' 'aligarh' 'allianc' 'amadeu' 'ambala' 'amc'\n",
      " 'aminovitsrilanka' 'amp' 'analysi' 'analyst' 'analyt'\n",
      " 'analyticalinstrumentsinjubilantbiosys' 'analytics' 'analyticsmanag'\n",
      " 'andconducttrainingprogramsplayanactiveroleinindiaofficegrowthrelatedinitiatives'\n",
      " 'andnowhaspresencein21statesinindia' 'android'\n",
      " 'andthereforepartofthezsleadershipladder' 'angular' 'angularj' 'ani'\n",
      " 'anim' 'animalfarmingindustry' 'animalnutrition' 'annuiti' 'ansi'\n",
      " 'ansibl' 'antiviru' 'ao' 'ap' 'apach' 'apache' 'api' 'api_' 'app' 'appl'\n",
      " 'appli' 'applic' 'applicationprogram' 'apprais' 'apps_manufacturing_ani'\n",
      " 'appscan' 'apriso' 'architect' 'architectur' 'architecturalservic'\n",
      " 'archiv' 'area' 'areasalesmanag' 'arm' 'art' 'articl' 'articul'\n",
      " 'artifici' 'artist' 'asap' 'asic' 'asm' 'asp' 'assembl' 'assess' 'asset'\n",
      " 'assist' 'assistant' 'associ' 'associate' 'asst' 'assur' 'attend'\n",
      " 'attendandexecutepreventivemainten'\n",
      " 'attendbreakdownmaintenancecallsandperformroutinepreventivemaintenanceforinstrumentslikecentrifuge'\n",
      " 'attract' 'audio' 'audit' 'audit_mumbai' 'aug' 'australia' 'autocad'\n",
      " 'autodesk' 'autom' 'automation' 'automobil' 'automot' 'aviat' 'avp'\n",
      " 'avp_credit' 'aw' 'awar' 'ax' 'azur' 'b2b' 'ba' 'backend' 'backoffic'\n",
      " 'balanc' 'bam' 'ban' 'baner' 'bangalor' 'bangalore' 'bank' 'banker'\n",
      " 'bareilli' 'base' 'basic' 'bath' 'bba' 'bbm' 'bca' 'bcom' 'bd' 'bde'\n",
      " 'bdm' 'bdmanag' 'beauti' 'beauty' 'bellandur' 'belt' 'benefit' 'bengali'\n",
      " 'bengaluru' 'beverag' 'bfsi' 'bharuch' 'bhikaji' 'bhilai' 'bhillai'\n",
      " 'bhilwara' 'bhiwadi' 'bhm' 'bhopal' 'bhubaneshwar' 'bi' 'bid' 'big'\n",
      " 'bigdata' 'bigdatatechnologies' 'bigtable' 'bikan' 'bilaspur'\n",
      " 'biochemist' 'biochemistri' 'bioinformat' 'biolog' 'biologicals' 'biomed'\n",
      " 'biotech' 'biotechnolog' 'birla' 'black' 'blend' 'bloomberg' 'bluetooth'\n",
      " 'board' 'boiler' 'bokaro' 'bom' 'bond' 'bonu' 'book' 'boot' 'bootstrap'\n",
      " 'bop' 'bpo' 'branch' 'branchhead' 'branchmanag' 'brand' 'brandmanag'\n",
      " 'breakdown' 'breakdownmaintenanceforvariousbiologyandanalyticalequipment'\n",
      " 'broke' 'broker' 'broking' 'bs' 'bss' 'btech' 'btl' 'budget'\n",
      " 'budgetingmanag' 'build' 'bulk' 'burdwan' 'busi' 'businessanalyst'\n",
      " 'businessdevelop' 'businessdevelopmentmanag' 'businessintellig'\n",
      " 'businessunitsfocusedeitheronaspecificclient' 'buyer' 'c2c' 'cabl' 'cad'\n",
      " 'cakephp' 'calcul' 'calibration' 'caller' 'cama' 'camel'\n",
      " 'camel_magarpatta' 'campaign' 'campu' 'camster' 'candidates' 'capabl'\n",
      " 'captivate' 'care' 'case' 'cash' 'cashier' 'cassandra' 'catia' 'caus'\n",
      " 'cbse' 'cca' 'cce' 'cctv' 'cellcounter' 'center' 'cento' 'centr'\n",
      " 'centrehead' 'centreless' 'centrifuge' 'ceph' 'certifi' 'certified' 'cfo'\n",
      " 'chain' 'chairman' 'chandigarh' 'chang' 'channel' 'channelsal' 'chat'\n",
      " 'check' 'chemic' 'chemist' 'chemistri' 'chennai' 'chines' 'chinese'\n",
      " 'chipdesign' 'chocol' 'circuit' 'cisco' 'citi' 'civil'\n",
      " 'cleanandhygienicpackedchicken' 'click' 'client' 'clientserv'\n",
      " 'clientservicingexecut' 'clinic' 'clinicalresearchfunctionalarea' 'clone'\n",
      " 'close' 'closur' 'cloud' 'clubhous' 'clubmanag' 'cluster' 'cm' 'cnc'\n",
      " 'co2incubator' 'coach'\n",
      " 'coachandserveasarolemodelforspaceteammembersprovidethoughtleadershipandinnovationwithinprojectsandacrosspracticeareaspartnerwithonshorecolleaguestodevelopnewbusinesswithexistingandnewclientsdevelopandimplementspecificframeworksforstrategyandprogramscontributetozsscapabilitybuildingandknowledgecreationcoach'\n",
      " 'code' 'codeignit' 'coder' 'cogno' 'coimbator' 'cold' 'collect' 'com'\n",
      " 'come' 'comm' 'commerc' 'commerce' 'commerci' 'commod' 'commun' 'comp'\n",
      " 'compani' 'companysecretari' 'compens' 'compensationmanag' 'competit'\n",
      " 'compiler' 'complianc' 'compressor' 'comput' 'conceptu' 'confectionari'\n",
      " 'confid' 'configur' 'conflict' 'construct' 'consult' 'consultant'\n",
      " 'consum' 'contact' 'content' 'contentdevelop' 'continu' 'contract'\n",
      " 'contractor' 'control' 'convinc' 'cook' 'cookchickenproducts' 'coordin'\n",
      " 'copyright' 'copywrit' 'core' 'corel' 'coreldraw' 'corp' 'corpor'\n",
      " 'corporate' 'corporateplan' 'corporatesal' 'cosmo' 'cost' 'couchdb'\n",
      " 'counsel' 'counsellor' 'counselor' 'countersal' 'cousel' 'cowork' 'cpt'\n",
      " 'creativ' 'creativedirector' 'credit' 'crm' 'cro' 'cross' 'csat' 'cse'\n",
      " 'csr' 'csrmanag' 'css' 'css3' 'ct' 'cto' 'currenc' 'current' 'custom'\n",
      " 'customercar' 'customerservic' 'customersupportengin' 'cuttack' 'cv'\n",
      " 'cycl' 'dairy' 'data' 'dataanalyst' 'databas' 'dataguard' 'datastag'\n",
      " 'datawareh' 'datawarehous' 'day' 'daycareteach' 'db2' 'dba' 'dbmstool'\n",
      " 'dcf' 'dealer' 'debug' 'deep' 'del' 'delhi' 'deliveri'\n",
      " 'deliverqualityworkforclientsandleadclientandzs' 'denial' 'deploy'\n",
      " 'deputi' 'dermatolog' 'design' 'designengin' 'desk' 'dev' 'develop'\n",
      " 'developer' 'development' 'devic' 'devop' 'dexecut' 'dhcp' 'digit'\n",
      " 'digitalmarket' 'dilig' 'diploma' 'direct' 'directmarketingexecut'\n",
      " 'director' 'directori' 'display' 'distribut' 'distribution_'\n",
      " 'distributor' 'divis' 'django' 'dlp' 'dm' 'dmc' 'dmf' 'dn' 'dnb' 'doc'\n",
      " 'docker' 'document' 'dom' 'domain' 'domest' 'domestic' 'dot' 'dqa'\n",
      " 'draft' 'draughtsman' 'draw' 'drg' 'drive' 'driven' 'driver'\n",
      " 'drugregulatoryaffair' 'drupal' 'dse' 'durables' 'dv' 'dw' 'dwh' 'dynam'\n",
      " 'dynamodb' 'dynatrac' 'ea' 'earli' 'east' 'eatandready' 'eb' 'eclips'\n",
      " 'ecommerc' 'ecommerce' 'ecosystem' 'ed' 'eda' 'edg' 'edit' 'editor'\n",
      " 'edpanalyst' 'educ' 'ee' 'eee'\n",
      " 'effectivelycoachingandresponsibleforpeoplegrowthanddefining' 'effici'\n",
      " 'eh' 'electr' 'electron' 'element' 'ellisbridge' 'em' 'email' 'embed'\n",
      " 'end' 'energi' 'engag' 'engin' 'engineer' 'engineering'\n",
      " 'engineeringbreak' 'engineeringdesign' 'engineeringmanag' 'engineers'\n",
      " 'english' 'ent' 'enterpris' 'enterprisearchitect' 'enthusiast' 'entiti'\n",
      " 'entri' 'environ' 'environment' 'epc' 'equip' 'equipmentinstallation'\n",
      " 'equiti' 'equitymanag' 'erod' 'erp' 'erpconsult' 'esb' 'escal' 'esi'\n",
      " 'estat' 'ethernet' 'ethic' 'etl' 'evalu' 'event'\n",
      " 'everymanagerleadsoneormorespaces' 'exadata' 'excel' 'exchang' 'execut'\n",
      " 'executive' 'executives' 'exl' 'exp' 'experi' 'experienc' 'expert'\n",
      " 'export' 'extern' 'extract' 'fabric' 'face' 'facebook' 'facil'\n",
      " 'facilitymanag' 'factoryhead' 'faculti' 'faridabad' 'feedback'\n",
      " 'feedmills' 'fees' 'femal' 'females' 'field' 'file' 'finalis' 'financ'\n",
      " 'finance' 'financi' 'financialanalyst' 'financialcontrol'\n",
      " 'financialservic' 'fine' 'firewal' 'firework' 'firmwar' 'fit' 'fitness'\n",
      " 'fitting' 'fix' 'flashchromatographysystemsandvariousbio' 'flex' 'floor'\n",
      " 'floorplan' 'flow' 'fmcg' 'fmea' 'focu' 'follow' 'food' 'forecast'\n",
      " 'foreman' 'forex' 'fortifi' 'fortig' 'fpga'\n",
      " 'fplcbreakdownissuesattendandrectifyingthehplcbreakdownissuescoordinatingwithvendors'\n",
      " 'framework' 'freebsd' 'freelanc' 'french' 'fresh' 'fresher' 'freshers'\n",
      " 'fromtier' 'frontend' 'frontoffic' 'fulcrum' 'fulltim' 'fulltime'\n",
      " 'function' 'functionaloutsideconsult' 'fund' 'fundrais' 'fuse' 'fusion'\n",
      " 'fx' 'galileo' 'game' 'gandhinagar' 'gap' 'gd' 'gdb' 'gener'\n",
      " 'generalinsur' 'genet' 'genset' 'ghaziabad' 'gi' 'git' 'global' 'globion'\n",
      " 'gm' 'gmp' 'gnm' 'good' 'googl' 'gopod' 'govern' 'govt' 'gp' 'grab'\n",
      " 'graduat' 'graphic' 'graphicdesign' 'great' 'greater' 'green' 'grind'\n",
      " 'group' 'groupandleaderinindianproteinfood'\n",
      " 'groupcompaniesaresugunafoods' 'growth' 'grunt' 'gsm' 'gst' 'guard'\n",
      " 'guest' 'guestrelationsexecut' 'gui' 'guidedcloselybyprincipals'\n",
      " 'gujarat' 'gurgaon' 'gurugram' 'hack' 'hacker' 'hadoop' 'handl' 'handset'\n",
      " 'hardwar' 'haryana' 'hat' 'hatcheries' 'hc' 'hcl' 'hdfc' 'head' 'health'\n",
      " 'healthcar' 'healthcare' 'heatingstirrers' 'hedg' 'help' 'helpdesk'\n",
      " 'hexagon' 'hi' 'hibern' 'high' 'higher' 'hire' 'hiring' 'hive' 'hni'\n",
      " 'holiday' 'home' 'honinganalyticalandprojectmanagementskillsmotivate'\n",
      " 'hospit' 'host' 'hosur' 'hotel' 'hous' 'housekeep' 'housekeepingexecut'\n",
      " 'hp' 'hplc' 'hr' 'hrexecut' 'hri' 'hrmanag' 'html' 'html5' 'http' 'hub'\n",
      " 'huge' 'human' 'hunt' 'hvac' 'hybrid' 'hyd' 'hyderabad' 'hydra' 'hydraul'\n",
      " 'hyper' 'icd' 'ics' 'idam' 'ide' 'idea' 'ieee' 'ii' 'iim' 'iit' 'illustr'\n",
      " 'immedi' 'immid' 'immunolog' 'impex' 'implement' 'import' 'improv' 'inb'\n",
      " 'inbound' 'incentives' 'incharg' 'incid' 'incom' 'incubators' 'indesign'\n",
      " 'india' 'indian' 'indor' 'industri' 'industry' 'infograph' 'inform'\n",
      " 'informatica' 'infrastructur' 'inhous' 'initi' 'innov'\n",
      " 'inourendeavortostayaheadofcurveinprovidingsolutionstotheseevolvingcomplexbusinessproblems'\n",
      " 'inr9' 'insid' 'insight' 'inspect' 'instal' 'institut' 'institutionalsal'\n",
      " 'instrument' 'insur' 'insura' 'integr' 'intellectu'\n",
      " 'intellectualproperti' 'intellig' 'interact' 'interfac' 'interior'\n",
      " 'interiordesign' 'intermedi' 'intern' 'internet' 'internettechnolog'\n",
      " 'internship' 'interperson' 'intership' 'interview' 'intranet' 'inventori'\n",
      " 'invest' 'investmentbank' 'invoic' 'io' 'ip' 'ipc' 'iphon' 'iq' 'ir'\n",
      " 'isi' 'iso' 'issu' 'ite' 'ithardwar' 'itil' 'itsoftware' 'j2e' 'j2ee'\n",
      " 'java' 'javascript' 'jdbc' 'jee' 'jenkin' 'jira' 'jm' 'job' 'join'\n",
      " 'joiner' 'joomla' 'journal' 'journalist' 'jpa' 'jqueri' 'jr' 'js' 'jsf'\n",
      " 'json' 'juli' 'june' 'junior' 'junip' 'junit' 'kaggl' 'kam' 'kanpur'\n",
      " 'karur' 'kernel' 'key' 'keyaccountmanag' 'knit' 'knowledg'\n",
      " 'knowledgeandexperienceofvariousmachinelearningalgorithms'\n",
      " 'knowledgeofprogrammingjava' 'kolkata' 'kotak' 'kpo' 'kvm' 'lab' 'lan'\n",
      " 'land' 'languag' 'laparoscop' 'laravel' 'largest' 'laserjet' 'laundri'\n",
      " 'layout' 'lcd' 'ldap' 'le' 'lead' 'leader'\n",
      " 'leaderrelationshipsfrombeginningoftheirtenure' 'leadership' 'lean'\n",
      " 'learn' 'lectur' 'ledger' 'legal' 'level'\n",
      " 'leveragingthisknowledgeforinnovation' 'liasion' 'life' 'lifescience'\n",
      " 'light' 'limit' 'link' 'linkedin' 'linux' 'literatur' 'll' 'lm' 'load'\n",
      " 'loan' 'locat' 'logist' 'logistics' 'logisticsexecut' 'logisticsmanag'\n",
      " 'look' 'lpa' 'lpo' 'lte' 'lucr' 'machin' 'macro' 'madurai' 'magazin'\n",
      " 'magento' 'maharashtra' 'mahindra' 'mail' 'maintain'\n",
      " 'maintainingstockofequipmentaccessories'\n",
      " 'maintainthemasterlistforpreventivemaintenanceandcalibrationofglpandnonglpinstrumentspreparingtheiq'\n",
      " 'mainten' 'maintenanceengin' 'male' 'manag' 'management'\n",
      " 'managementconsult' 'managementconsultingfirmsfunctionalarea' 'manager'\n",
      " 'manager_'\n",
      " 'managersleveragetheirexperiencetotakeresponsibilityforprovidinganalyticalsolutionsacrossprojects'\n",
      " 'mandarin' 'manesar' 'manger' 'manipul' 'manner' 'manual' 'manufactur'\n",
      " 'map' 'marin' 'market' 'marketing' 'marketing_nariman' 'marketingmanag'\n",
      " 'mass' 'master' 'masterchef' 'materi' 'materialmanag' 'matlab' 'matrix'\n",
      " 'matter' 'max' 'maya' 'mba' 'mbb' 'mca' 'mccb' 'mcse' 'md' 'mdg' 'mdm'\n",
      " 'mechan' 'mechanical' 'media' 'mediaplan' 'mediaplanningexecut'\n",
      " 'mediarelationsmanag' 'medic' 'medicalprofession' 'medicalrepres'\n",
      " 'medicalwrit' 'medicin' 'meerut' 'memori' 'mentor' 'mep' 'merchandis'\n",
      " 'meru' 'metadata' 'metal' 'methodolog' 'mgr' 'mi' 'mice' 'micro'\n",
      " 'microbiolog' 'microland' 'microservic' 'microsoft' 'microst'\n",
      " 'microstrategi' 'middl' 'middlewar' 'migrat' 'min' 'mix' 'mm' 'mnc' 'mo'\n",
      " 'mobil' 'model' 'modul' 'mohali' 'molecular' 'mongodb' 'monitor'\n",
      " 'monthli' 'moradabad' 'motion' 'motiv'\n",
      " 'motivationanddetailorientationorganization' 'motor' 'mpi' 'mr' 'ms'\n",
      " 'msbi'\n",
      " 'msfromapremierinstitutewouldbehighlypreferredsubstantialexperienceinmachinelearningknowledgeofbigdata'\n",
      " 'mt' 'multimedia' 'multithread' 'mumbai' 'mutual' 'muzaffarpur' 'mvc'\n",
      " 'mysql' 'n1c' 'nagar' 'nagio' 'nagpur' 'nashik' 'nation'\n",
      " 'nationalmanager' 'nationalmanageraftersal' 'natur' 'nav' 'navi' 'ncr'\n",
      " 'nctvt' 'ndt' 'need' 'negoti' 'nessu' 'net' 'netbackup' 'netsuit'\n",
      " 'network' 'networkadministr' 'networking' 'new' 'ngo' 'nicu' 'night'\n",
      " 'nit' 'nlp' 'nmap' 'node' 'noida' 'nokia' 'non' 'nontechnical' 'nosql'\n",
      " 'notdisclosedbyrecruiterindustry' 'nse' 'number' 'nurs' 'nutanix'\n",
      " 'nutrit' 'o2c' 'oam' 'object' 'odi' 'oee'\n",
      " 'ofallthebiologicsdepartmentequipment' 'ofbiz' 'offic' 'officer'\n",
      " 'offshor' 'oim' 'om' 'onboard' 'onli' 'onlin' 'ooad' 'ood' 'oop' 'op'\n",
      " 'open' 'opengl' 'openstack' 'oper' 'operation' 'operators' 'ophthalmolog'\n",
      " 'opportun' 'optim' 'optimis' 'oq' 'oqandpq' 'oracl'\n",
      " 'oraspecificexpertisearea' 'order' 'ordin' 'organ' 'orient'\n",
      " 'orstatistics' 'os' 'otc' 'oth' 'otheremploymenttype' 'outbound'\n",
      " 'outsideconsult' 'outsidetechnicalconsult' 'outsourc' 'packag' 'paddl'\n",
      " 'paints' 'panchkula' 'parti' 'partner' 'partnership' 'pass' 'passiv'\n",
      " 'patch' 'patholog' 'patient' 'pattern' 'pay' 'payabl' 'payment'\n",
      " 'payperclickspecialist' 'payrol' 'pc' 'pdf' 'penetr' 'pepperfry'\n",
      " 'perform' 'performance' 'perl' 'perman' 'personalbank' 'pf' 'pfmea' 'pg'\n",
      " 'pgt' 'pharm' 'pharma' 'pharmaceut' 'pharmaci' 'pharmacist' 'phd'\n",
      " 'phdincomputerscience' 'phone' 'photoshop' 'php' 'physic' 'physics'\n",
      " 'physicsteach' 'physiotherapi' 'pip' 'pl' 'placement' 'plan' 'planner'\n",
      " 'planningskillscommunicationskillssalary' 'platform'\n",
      " 'platformshadoopecosystemanddbsystemsagileprojectplanningandprojectmanagementskillsexcellentcommunicationskillsinaddition'\n",
      " 'plm' 'plsql' 'plumb' 'pm' 'pmo' 'pmp' 'pnr' 'point' 'polici' 'pool'\n",
      " 'portfolio' 'posit' 'position' 'post' 'pow' 'power' 'powerpoint'\n",
      " 'powershel' 'ppap' 'ppc'\n",
      " 'pqdocumentationfornewequipmentduringinstallationattendandrectifyingthecentrifuge'\n",
      " 'pr' 'pre' 'predict' 'predictivemodeling' 'prepar' 'presal'\n",
      " 'presalesconsult' 'present' 'presid' 'press' 'pressur' 'prevent' 'price'\n",
      " 'primari' 'primavera' 'primetim' 'princip' 'printer' 'privat' 'pro'\n",
      " 'proactiv' 'problem' 'procedur' 'process' 'processedproteinfood'\n",
      " 'processes' 'processflowanalyst' 'processingplants' 'processor'\n",
      " 'processtrain' 'procur' 'produc' 'product' 'productionmanag' 'profession'\n",
      " 'professionals' 'professor' 'profil' 'profit' 'program' 'programming'\n",
      " 'project' 'projectarchitect' 'projectlead' 'projectmanag'\n",
      " 'projectmanager' 'projectsteam' 'promot' 'proof' 'proofcheck' 'proofread'\n",
      " 'properti' 'propos' 'prospect' 'protocol' 'prototyp'\n",
      " 'provideexpertiseinarchitectingandimplementinganalyticalsolutionsforprojectsmanageprojectsandassistinmanagingstakeholderrelationshipsdirectmultipleprojectssimultaneously'\n",
      " 'prtnrshp' 'pscad' 'pt' 'public' 'publicrel' 'publicrelations' 'publish'\n",
      " 'punctual' 'pune' 'puppet' 'purchas' 'purchase' 'purchaseexecut' 'python'\n",
      " 'qa' 'qaqc' 'qlikview' 'qm' 'qmail' 'quali' 'qualif' 'qualiti'\n",
      " 'qualityassur' 'qualitycontrolexecut' 'qualitycontrolmanag' 'queri' 'rac'\n",
      " 'raci' 'rack' 'radio' 'radiolog' 'raipur' 'ram' 'ray' 'rcm' 'react'\n",
      " 'read' 'ready' 'real' 'receiv' 'recommendersystems' 'reconcili' 'record'\n",
      " 'recruit' 'recruiter' 'recruiting' 'recruitmentenglish'\n",
      " 'recruitmentexecut' 'red' 'redhat' 'redis'\n",
      " 'refiningtheirspaceoperatingmodels' 'region' 'regionalmanag' 'regress'\n",
      " 'regulatori' 'regulatoryaffair' 'relat' 'relationship' 'remedi' 'renew'\n",
      " 'repair' 'report' 'repres' 'requir'\n",
      " 'requiredcandidateprofilemanagershave8' 'research' 'researchscientist'\n",
      " 'researchtheevolvingdatasetsandnewerinformationsourcestounderstandthepossibilitiesapplyadvancedanalyticaltechniquesandalgorithmstoimprovecurrentaswellasdevelopcuttingedgeoff'\n",
      " 'resid' 'resident' 'residenti' 'resolut' 'resourc' 'respons' 'rest'\n",
      " 'restaur' 'restaurantmanag' 'retail' 'retailsal' 'return' 'revenu'\n",
      " 'rexposuretotool' 'rf' 'rfp' 'rfq' 'rheumatolog' 'risk' 'rm' 'ro' 'robot'\n",
      " 'roof' 'room' 'root' 'rotat' 'rotavapors' 'rout' 'rt' 'running' 'sa'\n",
      " 'saa' 'sac' 'safeti' 'safetyoffic' 'sage' 'sakinaka' 'sal' 'salari'\n",
      " 'salary' 'sale' 'salem' 'sales' 'sales_inbound' 'salescoordin'\n",
      " 'salesexecut' 'salesfoc' 'salesforc' 'salesforce' 'salesoffic'\n",
      " 'salessupport' 'salestrain' 'sampl' 'san' 'sanction' 'sap' 'satisfact'\n",
      " 'save' 'sc' 'scala' 'scan' 'schedul' 'school' 'scienc' 'scientist' 'scm'\n",
      " 'scout' 'screen' 'scribe' 'script' 'scrum' 'sd' 'sdk' 'sdlc' 'se'\n",
      " 'search' 'searchengineoptimis' 'sec' 'secondari' 'secretari' 'sector'\n",
      " 'secur' 'segment' 'sel' 'select' 'selenium' 'self' 'sell' 'sem' 'semi'\n",
      " 'senior' 'seniorassociate' 'seniordesignengin' 'seniormanag' 'seo'\n",
      " 'seospecialist' 'servc' 'server' 'servic' 'services' 'set' 'sfdc'\n",
      " 'shakti' 'share' 'sharepoint' 'sheet' 'sheetmet' 'shell' 'shift' 'shop'\n",
      " 'shopifi' 'shut' 'shutdown' 'siem' 'sigma' 'sign' 'signal' 'silicon'\n",
      " 'simul' 'singl' 'singleton' 'sip' 'site' 'sitecatalyst' 'siteengin'\n",
      " 'skill' 'skin' 'sky' 'sm' 'smart' 'smarti' 'sme' 'smsc' 'soa' 'soap'\n",
      " 'soc' 'social' 'sociallistening' 'socialmediamarketingmanag' 'soft'\n",
      " 'softwar' 'softwaredevelop' 'solid' 'solidwork' 'solut'\n",
      " 'solutionarchitect'\n",
      " 'solutionsdeliverclientimpactbycollaborativelyimplementingandbroadbasingthesesolutionsprovidethoughtleadershipbydevelopingthezspointofviewintheindustrythemanagerpositionistheprecursortotheassociateprincipalandprincipalpositions'\n",
      " 'sopho' 'sourc' 'south' 'sox' 'spanish'\n",
      " 'sparesandconsumablesasperrequirement' 'spark' 'spaservic' 'speak'\n",
      " 'specialist' 'specif' 'speek' 'spi' 'splunk' 'spot' 'spring' 'sql'\n",
      " 'sqlite' 'sr' 'srexecutive' 'sse' 'ssi' 'sso' 'ssr' 'sta' 'stack' 'staf'\n",
      " 'staff' 'stakehold' 'stakeholderrelationshipmanagement' 'standard'\n",
      " 'statement' 'static' 'statist' 'stats' 'statutori' 'steel' 'sterl'\n",
      " 'stock' 'storag' 'store' 'storylin' 'stranger' 'strateg' 'strategi'\n",
      " 'strategymanag' 'strong' 'structur' 'strut' 'student' 'studi' 'studio'\n",
      " 'sub' 'subject' 'subjectmatterexpert' 'subjectteachers' 'suburb'\n",
      " 'success'\n",
      " 'sugunaasabrandisknownforitsqualityproductswhichhasbeenwellacceptedbytheconsumers'\n",
      " 'sugunabangladeshandkenya' 'sugunadairy'\n",
      " 'sugunafoodsisthelargestpoultryenterpriseinindiaanditranksamongthetop10worldwide'\n",
      " 'sugunafoodspioneeredcontractfarminginpoultryindustry'\n",
      " 'sugunagroupalwaysbelievesinenergisingruralindiaandprovidingnutritionalsecuritytoindiaandisproudtoassociatewiththemissionofimprovinglivelihoodof38'\n",
      " 'sugunagroupwasfoundedintheyear1984withtheinceptionofsugunafoodsinpoultrysectorbyfirstgenerationentrepreneurs'\n",
      " 'sugunahassetupachainofmodernretailoutletsinthenameofã' 'sugunaisausd1'\n",
      " 'sugunamarketslivebroilerchicken' 'suit' 'sunder' 'supervis' 'supervisor'\n",
      " 'supervisor_' 'suppli' 'supplychain' 'support' 'surgeon' 'surgeri'\n",
      " 'sustain' 'svn' 'swim' 'switch' 'synthesi' 'systemadministr'\n",
      " 'systemanalyst' 'systemdesign' 'systemprogram' 'systemsecur' 'tableau'\n",
      " 'talent' 'taleo' 'talli' 'target' 'tat' 'tata' 'tavant' 'tax' 'taxat'\n",
      " 'tc' 'tcp' 'td' 'tdd' 'teach' 'teacher' 'team' 'teamlead' 'teamleader'\n",
      " 'tech' 'techinc' 'technic' 'technical' 'technicalarchitect'\n",
      " 'technicallead' 'technicalsupport' 'technicalsupportengin'\n",
      " 'technicalsupportmanag' 'technicalwrit' 'technician' 'techniqu'\n",
      " 'technolog' 'technology' 'tele' 'telecal' 'telecom' 'telecomengin'\n",
      " 'telecommun' 'telecomsoftwar' 'telemarket' 'telemarketingexecut'\n",
      " 'telematics' 'telesal' 'tell' 'tender' 'teradata' 'territori' 'test'\n",
      " 'tester' 'testingengin' 'text' 'tf' 'tgt' 'thane' 'thanjavur'\n",
      " 'thedataavailableaboutcustomersacrosshealthcareandmultipleindustriesisgettingricherandtheproblemsthatourcustomersaretryingtoanswercontinuetoevolve'\n",
      " 'thefullyintegratedoperationscoverbroilerandlayerfarming'\n",
      " 'thegroupisintopoultry'\n",
      " 'thereforezsdatasciencemanagersareresponsibleforstronganalyticalexpertise'\n",
      " 'thermal' 'think' 'thoughtleadership' 'ticket' 'tie' 'tiles' 'till'\n",
      " 'time' 'tl' 'tm1' 'toassist' 'tomcat' 'tool' 'tools' 'top4' 'tour'\n",
      " 'tourism' 'tourmanagementmanag' 'track' 'trade' 'train' 'traine'\n",
      " 'trainer' 'training' 'trainingmanag' 'transact' 'transactionprocess'\n",
      " 'transcrib' 'transcript' 'transit' 'transport' 'travel' 'tray' 'trend'\n",
      " 'trichi' 'trivandrum' 'troubleshoot' 'tsa' 'tsi' 'tsm' 'tune' 'twitter'\n",
      " 'ug' 'ui' 'uk' 'ultrasound' 'uml' 'unit' 'uniti' 'universitylevel' 'unix'\n",
      " 'urgent' 'usabl' 'usag' 'user' 'userexperi'\n",
      " 'usersforinstallationandqualification' 'ut' 'util' 'utp' 'ux'\n",
      " 'vaccinesandexports' 'vadodara' 'valid' 'validationandmaintenance'\n",
      " 'validationteamandend' 'valuat' 'valueaddedeggs' 'vancanc' 'varianc'\n",
      " 'vasai' 'vasanth' 'vashi' 'vat' 'vb' 'vba' 'vd' 'vee' 'vehicl' 'vellor'\n",
      " 'vendor' 'vendordevelopmentmanag' 'verbal' 'veri' 'verilog' 'verita'\n",
      " 'version' 'vessel' 'vibgyor' 'vice' 'vide' 'vika' 'virtual' 'visa'\n",
      " 'visakhapatnam' 'visio' 'visual' 'visualis' 'vlsi' 'vm' 'vmware' 'voic'\n",
      " 'voice' 'voip' 'volum' 'vp' 'vpn' 'vst' 'vulner' 'w2' 'walk' 'wan'\n",
      " 'wareh' 'warehous' 'water' 'waterpurificationsystems' 'wazirpur' 'web'\n",
      " 'webdesign' 'webex' 'weblog' 'webmast' 'webservic' 'websit'\n",
      " 'wehavegrownsignificantlyandarenowrecognizedgloballeadersinsalesandmarketingconsulting'\n",
      " 'weld'\n",
      " 'weseekindividualswiththefollowingdesiretomakeabusinessimpactforourclientsleadershipexperiencepersonalinitiativeandstrongworkethicself'\n",
      " 'window' 'wing' 'wip' 'wipro' 'wire' 'wireless'\n",
      " 'withanemployeefootprintofmorethan8500'\n",
      " 'withtheintenttoprovideconsumerswithfresh' 'wn' 'woo' 'woocommerc'\n",
      " 'wordpress' 'work' 'workflow'\n",
      " 'workingwithscientiststoensuresmoothrunningoftheequisalary' 'workman'\n",
      " 'worldspan' 'worli' 'wp' 'write' 'writer' 'written' 'wss' 'xcode' 'xhtml'\n",
      " 'xml' 'yahoo' 'year' 'years' 'zend'\n",
      " 'zerodowntimemaintenanceofalllaboratorydepartmentequipment' 'zld'\n",
      " 'zoolog' 'zshassetupadatascientisttrackwhichhasfollowingmajorfocusareas'\n",
      " 'zspioneersinsalesforceandmarketinganalyticsapplyingoptimizationtechniquestosalesforceandmarketinginvestmentproblems'\n",
      " 'ëœdailyfresshã']\n"
     ]
    }
   ],
   "source": [
    "np.set_printoptions(threshold=np.inf)\n",
    "\n",
    "# Example: displaying all feature names from CountVectorizer\n",
    "print(cv.get_feature_names_out())"
   ]
  },
  {
   "cell_type": "code",
   "execution_count": 81,
   "id": "0907801b-2b88-4f47-adcc-13fe975d60c8",
   "metadata": {},
   "outputs": [],
   "source": [
    "from sklearn.metrics.pairwise import cosine_similarity"
   ]
  },
  {
   "cell_type": "code",
   "execution_count": 82,
   "id": "0654cc36-5251-4fc9-8146-8f324774315e",
   "metadata": {},
   "outputs": [],
   "source": [
    "similarity = cosine_similarity(vector)"
   ]
  },
  {
   "cell_type": "code",
   "execution_count": 83,
   "id": "e57e776e-9b66-4bc0-9b71-91299d80cf39",
   "metadata": {},
   "outputs": [
    {
     "data": {
      "text/plain": [
       "'broker'"
      ]
     },
     "execution_count": 83,
     "metadata": {},
     "output_type": "execute_result"
    }
   ],
   "source": [
    "ps.stem('broker')"
   ]
  },
  {
   "cell_type": "code",
   "execution_count": 84,
   "id": "56f445e9-940b-4ea8-aea6-061954081944",
   "metadata": {},
   "outputs": [
    {
     "data": {
      "text/plain": [
       "'digit media planner media plan digit media advertis mumbai market advertis mr pr mediaplan mediaplanningexecut manag'"
      ]
     },
     "execution_count": 84,
     "metadata": {},
     "output_type": "execute_result"
    }
   ],
   "source": [
    "newdf['tags'][0]"
   ]
  },
  {
   "cell_type": "code",
   "execution_count": 85,
   "id": "19b3e21a-1135-43ea-9967-3dd20fe53269",
   "metadata": {},
   "outputs": [
    {
     "data": {
      "text/plain": [
       "'digit media planner media plan digit media advertis mumbai market advertis mr pr mediaplan mediaplanningexecut manag'"
      ]
     },
     "execution_count": 85,
     "metadata": {},
     "output_type": "execute_result"
    }
   ],
   "source": [
    "stem('digital media planner  media planning  digital media advertising mumbai marketing advertising mr pr mediaplanning mediaplanningexecutive manager')"
   ]
  },
  {
   "cell_type": "code",
   "execution_count": 86,
   "id": "1cdc34f9-e6ae-47e6-88aa-6dcbfa098569",
   "metadata": {},
   "outputs": [],
   "source": [
    "from sklearn.metrics.pairwise import cosine_similarity"
   ]
  },
  {
   "cell_type": "code",
   "execution_count": 87,
   "id": "0cb4a39f-57f1-446d-becb-ead9aa7c7eee",
   "metadata": {},
   "outputs": [],
   "source": [
    "similarity=cosine_similarity(vector)"
   ]
  },
  {
   "cell_type": "code",
   "execution_count": 88,
   "id": "1ee45339-220d-4fcf-8d2a-e666395bca72",
   "metadata": {},
   "outputs": [
    {
     "data": {
      "text/plain": [
       "array([0.        , 1.        , 0.02639818, 0.        , 0.04477737,\n",
       "       0.05096472, 0.34503278, 0.        , 0.45175395, 0.02034892,\n",
       "       0.06388766, 0.02672612, 0.        , 0.        , 0.03710709,\n",
       "       0.        , 0.        , 0.        , 0.        , 0.25555063,\n",
       "       0.30988989, 0.23218173, 0.06277648, 0.        , 0.        ,\n",
       "       0.        , 0.27696991, 0.03194383, 0.        , 0.02988072,\n",
       "       0.        , 0.02942449, 0.        , 0.        , 0.        ,\n",
       "       0.14085904, 0.        , 0.        , 0.        , 0.19889806,\n",
       "       0.        , 0.28249417, 0.27420425, 0.        , 0.02857143,\n",
       "       0.04931137, 0.        , 0.        , 0.        , 0.        ,\n",
       "       0.        , 0.28829999, 0.03086067, 0.        , 0.        ,\n",
       "       0.        , 0.0360375 , 0.        , 0.29474156, 0.        ,\n",
       "       0.        , 0.32052389, 0.        , 0.29773258, 0.08199201,\n",
       "       0.072075  , 0.        , 0.07968191, 0.08451543, 0.03138824,\n",
       "       0.        , 0.12677314, 0.09583148, 0.03877834, 0.        ,\n",
       "       0.        , 0.28685487, 0.        , 0.17258979, 0.02817181,\n",
       "       0.        , 0.06716605, 0.        , 0.        , 0.        ,\n",
       "       0.        , 0.13930904, 0.        , 0.055577  , 0.30358837,\n",
       "       0.03035884, 0.24359938, 0.020498  , 0.        , 0.15936381,\n",
       "       0.        , 0.        , 0.07559289, 0.0277885 , 0.37383359,\n",
       "       0.05484085, 0.03450328, 0.        , 0.03380617, 0.05884899,\n",
       "       0.        , 0.02519763, 0.0464851 , 0.03450328, 0.0808122 ,\n",
       "       0.        , 0.040996  , 0.07476672, 0.32433749, 0.04259177,\n",
       "       0.09113533, 0.        , 0.        , 0.        , 0.        ,\n",
       "       0.07049074, 0.        , 0.03194383, 0.33906635, 0.08696566,\n",
       "       0.11428571, 0.        , 0.43320011, 0.24922239, 0.        ,\n",
       "       0.        , 0.38223539, 0.        , 0.02279212, 0.        ,\n",
       "       0.        , 0.13522468, 0.        , 0.        , 0.        ,\n",
       "       0.        , 0.15694121, 0.        , 0.02857143, 0.        ,\n",
       "       0.        , 0.        , 0.24072326, 0.        , 0.        ,\n",
       "       0.        , 0.23664319, 0.        , 0.        , 0.20701967,\n",
       "       0.07476672, 0.07290826, 0.03138824, 0.03524537, 0.21622499,\n",
       "       0.        , 0.02519763, 0.        , 0.        , 0.05484085,\n",
       "       0.08451543, 0.06900656, 0.06388766, 0.048795  , 0.03253   ,\n",
       "       0.17336568, 0.02519763, 0.        , 0.        , 0.03086067,\n",
       "       0.        , 0.        , 0.        , 0.33394721, 0.12777531,\n",
       "       0.        , 0.        , 0.03380617, 0.14342743, 0.0270666 ,\n",
       "       0.        , 0.        , 0.02817181, 0.166731  , 0.03253   ,\n",
       "       0.11633501, 0.        , 0.07396705, 0.16903085, 0.        ,\n",
       "       0.055577  , 0.        , 0.26024002, 0.        , 0.        ,\n",
       "       0.27717395, 0.        , 0.10559274, 0.05096472, 0.12777531,\n",
       "       0.03253   , 0.        , 0.04780914, 0.        , 0.03450328,\n",
       "       0.02857143, 0.07100716, 0.09944903, 0.        , 0.14414999,\n",
       "       0.28249417, 0.        , 0.        , 0.        , 0.        ,\n",
       "       0.        , 0.        , 0.05884899, 0.12598816, 0.        ,\n",
       "       0.33394721, 0.06601783, 0.15179419, 0.40334734, 0.05345225,\n",
       "       0.07968191, 0.04600437, 0.        , 0.05714286, 0.11595421,\n",
       "       0.        , 0.        , 0.        , 0.02942449, 0.25009651,\n",
       "       0.08226127, 0.0277885 , 0.30845464, 0.25669917, 0.32756921,\n",
       "       0.        , 0.11595421, 0.        , 0.        , 0.        ,\n",
       "       0.02742042, 0.        , 0.11338934, 0.        , 0.06172134,\n",
       "       0.        , 0.04643635, 0.        , 0.37186787, 0.05634362,\n",
       "       0.        , 0.        , 0.        , 0.        , 0.06388766,\n",
       "       0.        , 0.        , 0.03253   , 0.        , 0.        ,\n",
       "       0.08119979, 0.        , 0.        , 0.        , 0.14064217,\n",
       "       0.05039526, 0.        , 0.06506   , 0.        , 0.02898855,\n",
       "       0.        , 0.03086067, 0.38729833, 0.        , 0.05039526,\n",
       "       0.        , 0.26837252, 0.        , 0.03984095, 0.05634362,\n",
       "       0.45080573, 0.04733811, 0.18832945, 0.22537447, 0.40771775,\n",
       "       0.        , 0.        , 0.        , 0.        , 0.3482726 ,\n",
       "       0.        , 0.02300219, 0.02942449, 0.        , 0.09583148,\n",
       "       0.0451754 , 0.        , 0.22194838, 0.        , 0.08199201,\n",
       "       0.02577696, 0.30567351, 0.        , 0.04780914, 0.03688556,\n",
       "       0.        , 0.02742042, 0.01913898, 0.08696566, 0.40599897,\n",
       "       0.02366905, 0.        , 0.        , 0.23218173, 0.        ,\n",
       "       0.02976467, 0.        , 0.        , 0.3380617 , 0.03194383,\n",
       "       0.        , 0.        , 0.        , 0.        , 0.23904572,\n",
       "       0.03086067, 0.        , 0.        , 0.        , 0.06506   ,\n",
       "       0.        , 0.05345225, 0.        , 0.27788501, 0.02942449,\n",
       "       0.        , 0.03779645, 0.27031844, 0.        , 0.04012054,\n",
       "       0.06546537, 0.        , 0.07049074, 0.02857143, 0.05634362,\n",
       "       0.08226127, 0.        , 0.072075  , 0.        , 0.06900656,\n",
       "       0.32479918, 0.        , 0.09416472, 0.        , 0.        ,\n",
       "       0.01050307, 0.        , 0.        , 0.        , 0.        ,\n",
       "       0.        , 0.        , 0.30606668, 0.04225771, 0.09759001,\n",
       "       0.        , 0.01992048, 0.        , 0.        , 0.26565743,\n",
       "       0.20158105, 0.06900656, 0.40900013, 0.        , 0.        ,\n",
       "       0.        , 0.        , 0.        , 0.09759001, 0.36983525,\n",
       "       0.06195122, 0.05279637, 0.3290451 , 0.05096472, 0.06716605,\n",
       "       0.        , 0.10350983, 0.06440082, 0.        , 0.        ,\n",
       "       0.        , 0.03314968, 0.        , 0.        , 0.05634362,\n",
       "       0.34073417, 0.        , 0.06629935, 0.29398737, 0.19937791,\n",
       "       0.        , 0.06506   , 0.17622684, 0.32071349, 0.01762268,\n",
       "       0.        , 0.        , 0.        , 0.        , 0.        ,\n",
       "       0.06172134, 0.        , 0.44339445, 0.28685487, 0.03929887,\n",
       "       0.35138211, 0.        , 0.        , 0.        , 0.        ,\n",
       "       0.        , 0.09287269, 0.04364358, 0.        , 0.02219484,\n",
       "       0.08728716, 0.15367225, 0.        , 0.        , 0.25226249,\n",
       "       0.05634362, 0.08955473, 0.        , 0.        , 0.        ,\n",
       "       0.        , 0.        , 0.        , 0.        , 0.0833655 ,\n",
       "       0.02942449, 0.        , 0.        , 0.        , 0.        ,\n",
       "       0.06761234, 0.24597602, 0.32433749, 0.        , 0.17604754,\n",
       "       0.03877834, 0.03253   , 0.        ])"
      ]
     },
     "execution_count": 88,
     "metadata": {},
     "output_type": "execute_result"
    }
   ],
   "source": [
    "similarity[1]"
   ]
  },
  {
   "cell_type": "code",
   "execution_count": 89,
   "id": "0664a612-82e8-4945-a56d-380d1b0f0adb",
   "metadata": {},
   "outputs": [],
   "source": [
    "def recommend(role):\n",
    "    role_index=newdf[newdf['Role']==role].index[0]\n",
    "    dist=similarity[role_index]\n",
    "    job_list=sorted(list(enumerate(dist)),reverse=True,key=lambda x:x[1])[1:11]\n",
    "\n",
    "    for i in job_list:\n",
    "        print(newdf.iloc[i[0]].Role)\n",
    "        "
   ]
  },
  {
   "cell_type": "code",
   "execution_count": 90,
   "id": "73eca9b8-7a6b-4dc1-9e40-cd37266b2f2a",
   "metadata": {},
   "outputs": [
    {
     "name": "stdout",
     "output_type": "stream",
     "text": [
      "Software Developer\n",
      "Business Analyst\n",
      "Software Developer\n",
      "Social Media Marketing Manager\n",
      "Technical Architect\n",
      "System Analyst\n",
      "Technical Architect\n",
      "Software Developer\n",
      "Social Media Marketing Manager\n",
      "Data Analyst\n"
     ]
    }
   ],
   "source": [
    "recommend('System Analyst')"
   ]
  },
  {
   "cell_type": "code",
   "execution_count": 91,
   "id": "ff3c22c8-8c06-45ca-849f-952213c84e7d",
   "metadata": {},
   "outputs": [
    {
     "data": {
      "text/plain": [
       "'Software Developer'"
      ]
     },
     "execution_count": 91,
     "metadata": {},
     "output_type": "execute_result"
    }
   ],
   "source": [
    "newdf.iloc[339].Role"
   ]
  },
  {
   "cell_type": "code",
   "execution_count": 92,
   "id": "2348ed59-8faf-4a44-a580-f759863046f9",
   "metadata": {},
   "outputs": [],
   "source": [
    "import pickle"
   ]
  },
  {
   "cell_type": "code",
   "execution_count": 93,
   "id": "488f8e10-a19b-4559-92fc-6f50025f70c3",
   "metadata": {},
   "outputs": [],
   "source": [
    "pickle.dump(newdf.to_dict(),open('jobs_dict.pkl','wb'))"
   ]
  },
  {
   "cell_type": "code",
   "execution_count": 94,
   "id": "00b047ca-a52f-431b-8e84-9e525c4318ae",
   "metadata": {},
   "outputs": [
    {
     "data": {
      "text/plain": [
       "array(['Media Planning Executive/Manager', 'Sales Executive/Officer',\n",
       "       'R&D Executive', 'Technical Support Engineer', 'Testing Engineer',\n",
       "       'System Analyst', 'Sales Executive/Officer', 'Technical Architect',\n",
       "       'Sales Executive/Officer',\n",
       "       'Associate/Senior Associate -(Technical)',\n",
       "       'Corporate Planning/Strategy Manager', 'Webmaster',\n",
       "       'Process Flow Analyst', 'Software Developer',\n",
       "       'Social Media Marketing Manager', 'Senior Design Engineer',\n",
       "       'Accounts Manager', 'Software Developer', 'Software Developer',\n",
       "       'Sales Officer', 'Sales/Business Development Manager',\n",
       "       'Sales/Business Development Manager',\n",
       "       'Quality Assurance/Quality Control Executive',\n",
       "       'Software Developer', 'Software Developer', 'Graphic/Web Designer',\n",
       "       'Area Sales Manager', 'Software Developer', 'System Administrator',\n",
       "       'Project Manager-IT/Software', 'Software Developer',\n",
       "       'Project Lead', 'Software Developer', 'Logistics Executive',\n",
       "       'Accounts Executive/Accountant',\n",
       "       'Associate/Senior Associate -(NonTechnical)',\n",
       "       'Technical Support Manager', 'Technical Architect',\n",
       "       'Software Developer', 'Sales/Business Development Manager',\n",
       "       'Associate/Senior Associate -(NonTechnical)', 'Regional Manager',\n",
       "       'Head / VP/ GM/ National Manager After Sales',\n",
       "       'Software Developer', 'Software Developer',\n",
       "       'Associate/Senior Associate -(NonTechnical)', 'Software Developer',\n",
       "       'Associate/Senior Associate -(NonTechnical)', 'Software Developer',\n",
       "       'Team Leader -(NonTechnical)', 'Content Developer',\n",
       "       'Sales/Business Development Manager', 'Software Developer',\n",
       "       'Business/EDP Analyst', 'DBA', 'HR Executive',\n",
       "       'Software Developer', 'Client Servicing/Key Account Manager',\n",
       "       'Head/VP/GM/National Manager -Sales',\n",
       "       'Centre Head / Branch Head / Club Manager',\n",
       "       'Associate/Senior Associate -(NonTechnical)',\n",
       "       'Sales/Business Development Manager', 'HR Executive',\n",
       "       'Sales/Business Development Manager', 'Project Architect',\n",
       "       'Software Developer', 'System Analyst', 'Software Developer',\n",
       "       'Software Developer', 'Testing Engineer',\n",
       "       'Associate/Senior Associate -(NonTechnical)',\n",
       "       'Front Office/Guest Relations Executive/Manager',\n",
       "       'Design Engineer', 'Software Developer', 'Technical Writer',\n",
       "       'Design Engineer', 'Sales/Business Development Manager',\n",
       "       'Accounts Executive/Accountant',\n",
       "       'Sales/Business Development Manager', 'Software Developer',\n",
       "       'Engineering Manager', 'Accounts Executive/Accountant',\n",
       "       'Training Manager', 'Software Developer', 'Software Developer',\n",
       "       'Software Developer', 'Sales/Business Development Manager',\n",
       "       'Testing Engineer', 'Graphic Designer', 'Sales Executive/Officer',\n",
       "       'Client Servicing Executive', 'Sales Executive / Officer',\n",
       "       'Software Developer', 'Recruitment Executive', 'Sales Coordinator',\n",
       "       'Solution Architect / Enterprise Architect', 'Software Developer',\n",
       "       'Workman/Foreman/Technician', 'Software Developer',\n",
       "       'Sales Executive/Officer', 'Design Engineer/Manager',\n",
       "       'Technical Lead/Project Lead', 'Team Leader -(NonTechnical)',\n",
       "       'Accounts Executive/Accountant',\n",
       "       'Quality Assurance/Quality Control Executive', 'Analytics Manager',\n",
       "       'Trainee', 'Accounts Executive/Accountant', 'Software Developer',\n",
       "       'Search Engine Optimisation /SEO Specialist',\n",
       "       'Engineering Manager', 'Financial Analyst',\n",
       "       'PPC /Pay Per Click Specialist', 'Medical Representative',\n",
       "       'Project Manager-Production/Manufacturing/Maintenance',\n",
       "       'Public Relations & Media Relations Manager', 'Fresher', 'Fresher',\n",
       "       'Software Developer', 'Other', 'Lecturer/Professor',\n",
       "       'Documentation/Medical Writing', 'Software Developer',\n",
       "       'Sales/Business Development Manager',\n",
       "       'Associate/Senior Associate -(NonTechnical)',\n",
       "       'Associate/Senior Associate -(NonTechnical)',\n",
       "       'IT/Networking-Manager', 'Sales Executive/Officer',\n",
       "       'Sales Trainer', 'Associate/Senior Associate -(Technical)',\n",
       "       'Trainer', 'Sales/Business Development Manager',\n",
       "       'Technical Support Engineer', 'Software Developer',\n",
       "       'Senior Design Engineer', 'Head/VP/GM-Technology(IT)/CTO',\n",
       "       'Associate/Senior Associate -(Technical)', 'Business Analyst',\n",
       "       'Software Developer', 'Restaurant Manager', 'Graphic Designer',\n",
       "       'Head/VP/GM/National Manager -Sales', 'Web Designer',\n",
       "       'Graphic/Web Designer', 'Software Developer',\n",
       "       'Graphic/Web Designer', 'Head/VP/GM-Operations',\n",
       "       'Head/VP/GM/National Manager -Sales', 'Head/VP/GM-Operations',\n",
       "       'Research Scientist', 'Accounts Manager',\n",
       "       'Sales/Business Development Manager', 'Testing Engineer',\n",
       "       'Quality Assurance/Quality Control Executive',\n",
       "       'Sales Executive/Officer', 'Software Developer',\n",
       "       'Associate/Senior Associate -(NonTechnical)', 'Software Developer',\n",
       "       'Associate/Senior Associate -(NonTechnical)',\n",
       "       'Sales/Business Development Manager', 'Software Developer',\n",
       "       'Merchandiser', 'System Security', 'Team Lead/Technical Lead',\n",
       "       'Executive/ Sr Executive - Administration',\n",
       "       'Associate/Senior Associate -(NonTechnical)',\n",
       "       'DaycareTeacher / Incharge / Attendant',\n",
       "       'Associate/Senior Associate -(Technical)',\n",
       "       'Social Media Marketing Manager', 'Team Lead/Technical Lead',\n",
       "       'Sales / BD Manager', 'Technical Support Engineer',\n",
       "       'Graphic Designer', 'Testing Engineer', 'Team Lead/Technical Lead',\n",
       "       'Graphic/Web Designer',\n",
       "       'Associate/Senior Associate -(NonTechnical)', 'Software Developer',\n",
       "       'Sales/Business Development Manager',\n",
       "       'Client Servicing/Key Account Manager', 'Logistics Manager',\n",
       "       'Associate/Senior Associate -(NonTechnical)', 'Software Developer',\n",
       "       'Executive/ Sr Executive - Administration',\n",
       "       'Head/VP/GM-Finance/Audit', 'Accounts Manager',\n",
       "       'Associate/Senior Associate -(NonTechnical)', 'Software Developer',\n",
       "       'Client Servicing/Key Account Manager', 'Software Developer',\n",
       "       'Project Manager-IT/Software', 'Lecturer/Professor',\n",
       "       'Financial Analyst', 'Head/VP/GM/National Manager -Sales',\n",
       "       'Technical Architect', 'Project Manager-IT/Software', 'Fresher',\n",
       "       'Sales/Business Development Manager', 'Software Developer',\n",
       "       'Software Developer', 'Sales/Business Development Manager',\n",
       "       'Software Developer', 'Associate/Senior Associate -(NonTechnical)',\n",
       "       'Associate/Senior Associate -(Technical)', 'Outside Consultant',\n",
       "       'Purchase Executive', 'Software Developer',\n",
       "       'Associate/Senior Associate -(Technical)', 'Trainer',\n",
       "       'Software Developer', 'Purchase/Vendor Development Manager',\n",
       "       'Software Developer', 'Telecalling/Telemarketing Executive',\n",
       "       'Cashier', 'Fresher', 'Trainee', 'Testing Engineer',\n",
       "       'Production Manager', 'Associate/Senior Associate -(NonTechnical)',\n",
       "       'Content Developer', 'Software Developer', 'Visualiser',\n",
       "       'Graphic/Web Designer', 'Accounts Executive/Accountant',\n",
       "       'Accounts Manager', 'Sales Executive/Officer',\n",
       "       'Software Developer', 'Sales Officer',\n",
       "       'Sales/Business Development Manager', 'Software Developer',\n",
       "       'Creative Director', 'Associate/Senior Associate -(NonTechnical)',\n",
       "       'Head/VP/GM-Training & Development',\n",
       "       'Associate/Senior Associate -(NonTechnical)',\n",
       "       'Associate/Senior Associate -(Technical)',\n",
       "       'Solution Architect / Enterprise Architect', 'Architect',\n",
       "       'Software Developer', 'Voice & Accent Trainer',\n",
       "       'Sales/Business Development Manager', 'Software Developer',\n",
       "       'Technical Architect', 'Sales Executive/Officer',\n",
       "       'Sales/Business Development Manager',\n",
       "       'Sales/Business Development Manager', 'Finance/Budgeting Manager',\n",
       "       'Associate/Senior Associate -(NonTechnical)', 'Software Developer',\n",
       "       'Outside Technical Consultant', 'Software Developer',\n",
       "       'CSR Manager', 'Software Developer', 'Sales Officer', 'Surgeon',\n",
       "       'Software Developer', 'Software Developer',\n",
       "       'Associate/Senior Associate -(NonTechnical)', 'Testing Engineer',\n",
       "       'Sales/Business Development Manager', 'Software Developer',\n",
       "       'Accounts Executive/Accountant', 'Business Analyst',\n",
       "       'Recruitment Executive', 'Software Developer',\n",
       "       'Medical Representative', 'Software Developer',\n",
       "       'Suguna Group was founded in the year 1984 with the inception of Suguna Foods in poultry sector by first generation entrepreneurs. Suguna is a USD 1.3 billion (INR 9,000 cr) group and leader in Indian protein food/animal farming industry. With an employee footprint of more than 8500, the group is in to poultry, dairy, processed protein food, animal nutrition, healthcare & biologicals. Group companies are Suguna Foods, Suguna Dairy, Globion, Aminovit Srilanka, Suguna Bangladesh and Kenya. Suguna Foods is the largest poultry enterprise in India and it ranks among the top 10 worldwide. The fully integrated operations cover broiler and layer farming, hatcheries, feed mills, processing plants, vaccines and exports. Suguna markets live broiler chicken, value added eggs, ready-to-eat and ready-to-cook chicken products. With the intent to provide consumers with fresh, clean and hygienic packed chicken, Suguna has set up a chain of modern retail outlets in the name of Ã¢â‚¬ËœDaily FresshÃ¢â‚¬â„¢. Suguna Foods pioneered contract farming in poultry industry, and now has presence in 21 states in India. Suguna as a brand is known for its quality products which has been well accepted by the consumers. Suguna Group always believes in energising rural India and providing nutritional security to India and is proud to associate with the mission of improving livelihood of 38,000 farmers',\n",
       "       'Software Developer', 'Associate/Senior Associate -(NonTechnical)',\n",
       "       'Proof Reader', 'Associate/Senior Associate -(NonTechnical)',\n",
       "       'Associate/Senior Associate -(Technical)', 'Software Developer',\n",
       "       'Software Developer', 'Nurse', 'Direct Marketing Executive',\n",
       "       'HR Executive', 'Software Developer', 'Head/VP/GM-Finance/Audit',\n",
       "       'Content Developer', 'Head/VP/GM-CFO/Financial Controller',\n",
       "       'Software Developer', 'Sales Executive/Officer',\n",
       "       'Software Developer', 'Software Developer',\n",
       "       'Team Lead/Technical Lead', 'Sales/Business Development Manager',\n",
       "       'Software Developer', 'Associate/Senior Associate -(NonTechnical)',\n",
       "       'Fresher', 'Sales Executive/Officer', 'Recruitment Executive',\n",
       "       'Technical Architect', 'Branch Manager', 'Sales Executive/Officer',\n",
       "       'ERP Consultant', 'Purchase/Vendor Development Manager',\n",
       "       'Software Developer', 'Other',\n",
       "       'Sales/Business Development Manager',\n",
       "       'Associate/Senior Associate -(Technical)',\n",
       "       'Service/Maintenance Engineer',\n",
       "       'Associate/Senior Associate -(NonTechnical)',\n",
       "       'Associate/Senior Associate -(NonTechnical)',\n",
       "       'Associate/Senior Associate -(Technical)',\n",
       "       'Head/VP/GM-Production/Manufacturing/Maintenance',\n",
       "       'Software Developer', 'Sales/Business Development Manager',\n",
       "       'Team Lead/Technical Lead', 'Senior Design Engineer',\n",
       "       'Purchase/Vendor Development Manager',\n",
       "       'Sales/Business Development Manager',\n",
       "       'Associate/Senior Associate -(Technical)',\n",
       "       'Front Office/Guest Relations Executive/Manager',\n",
       "       'Software Developer', 'Software Developer',\n",
       "       'Head/VP/GM-Operations', 'Recruitment Executive',\n",
       "       'Software Developer', 'Counter Sales',\n",
       "       'Associate/Senior Associate -(NonTechnical)',\n",
       "       'Team Lead/Technical Lead', 'Physics Teacher',\n",
       "       'Sales/Business Development Manager', 'Design Engineer',\n",
       "       'Recruitment Executive', 'Accounts Executive/Accountant',\n",
       "       'Software Developer', 'Sales/Business Development Manager',\n",
       "       'Logistics Executive', 'Software Developer', 'Software Developer',\n",
       "       'Technical Architect', 'Software Developer',\n",
       "       'Sales/Business Development Manager',\n",
       "       'Accounts Executive/Accountant', 'Architect',\n",
       "       'Senior Design Engineer', 'Purchase Executive',\n",
       "       'Software Developer', 'Quality Assurance/Quality Control Manager',\n",
       "       'Executive/Master Chef', 'Technical Support Engineer',\n",
       "       'Sales/Business Development Manager', 'Team Lead/Technical Lead',\n",
       "       'DBA', 'Pharmacist/Chemist/Bio Chemist',\n",
       "       'Sales/Business Development Manager',\n",
       "       'Technical / Process Trainer',\n",
       "       'Project Manager-Production/Manufacturing/Maintenance',\n",
       "       'Associate/Senior Associate -(NonTechnical)',\n",
       "       'Customer Support Engineer/Technician', 'System Administrator',\n",
       "       'Purchase/Vendor Development Manager',\n",
       "       'Associate/Senior Associate -(NonTechnical)',\n",
       "       'Graphic/Web Designer',\n",
       "       'Associate/Senior Associate -(NonTechnical)',\n",
       "       'Project Manager-IT/Software', 'Software Developer',\n",
       "       'Subject Matter Expert', 'Branch Manager/Regional Manager',\n",
       "       'Product/Brand Manager', 'Functional Outside Consultant',\n",
       "       'Safety Officer/Manager', 'Software Developer',\n",
       "       'Equipment installation, calibration, validation and maintenance. Maintain the master list for preventive maintenance and calibration of GLP AND NONGLP Instruments Preparing the IQ,OQ,PQ Documentation for new equipment during installation Attend and rectifying the CENTRIFUGE,CO2 INCUBATOR ,HPLC, CENTRIFUGE, CELLCOUNTER, HPLC, ROTAVAPORS, INCUBATORS, WATER PURIFICATION SYSTEMS, FPLC breakdown issues Attend and rectifying the HPLC breakdown issues Coordinating with Vendors, Projects team, Validation team and end-users for installation and qualification (IQ, OQ and PQ) of all the Biologics department equipment. Zero down time maintenance of all laboratory department equipment. Maintaining stock of equipment accessories, spares and consumables as per requirement. To assist, attend and Execute Preventive Maintenance/Breakdown Maintenance for Various Biology and Analytical equipment. Attend breakdown Maintenance calls and Perform routine Preventive Maintenance for Instruments like CENTRIFUGE, CELLCOUNTER, HPLC, ROTAVAPORS, INCUBATORS, WATER PURIFICATION SYSTEMS, HEATING STIRRERS, FLASH CHROMATOGRAPHY SYSTEMS AND VARIOUS BIO-ANALYTICAL INSTRUMENTS IN JUBILANT BIOSYS. Working with Scientists to ensure smooth running of the Equi Salary: Not Disclosed by Recruiter Industry: Pharma / Biotech / Clinical Research Functional Area: Other Employment Type: Full Time, Permanent',\n",
       "       'Customer Support Engineer/Technician',\n",
       "       'Associate/Senior Associate -(NonTechnical)', 'Data Analyst',\n",
       "       'Software Developer', 'Recruitment Executive',\n",
       "       'Service/Maintenance Engineer',\n",
       "       'Sales/Business Development Manager',\n",
       "       'Accounts Executive/Accountant',\n",
       "       'Tour Management Manager/Senior Manager', 'Maintenance Engineer',\n",
       "       'ZS pioneers in sales force and marketing analytics applying optimization techniques to sales force and marketing investment problems. We have grown significantly and are now recognized global leaders in sales and marketing consulting. A key enabler of our services is leveraging data in delivering client solutions. The data available about customers across Healthcare and multiple industries is getting richer and the problems that our customers are trying to answer continue to evolve. In our endeavor to stay ahead of curve in providing solutions to these evolving complex business problems, ZS has set up a Data Scientist track which has following major focus areas: Research the evolving datasets and newer information sources to understand the possibilities Apply advanced analytical techniques and algorithms to improve current as well as develop cutting edge offerings/solutions Deliver client impact by collaboratively implementing and broad basing these solutions Provide thought leadership by developing the ZS Point of View in the industry The Manager position is the precursor to the Associate Principal and Principal Positions, and therefore part of the ZS leadership ladder. Every Manager leads one or more Spaces, i.e. business units focused either on a specific client, or a specific expertise area. Therefore ZS Data Science Managers are responsible for strong analytical expertise, knowledge and experience of various machine learning algorithms, tools & big data technologies, leveraging this knowledge for innovation, thought leadership, stakeholder relationship management, effectively coaching and responsible for people growth and defining-running-refining their space operating models, guided closely by Principals. Managers leverage their experience to take responsibility for providing analytical solutions across projects, deliver quality work for clients and lead client and ZS-leader relationships from beginning of their tenure. Provide expertise in architecting and implementing analytical solutions for projects Manage projects and assist in managing stakeholder relationships Direct multiple projects simultaneously, honing analytical and project management skills Motivate, coach and serve as a role model for space team members Provide thought leadership and innovation within projects and across practice areas Partner with onshore colleagues to develop new business with existing and new clients Develop and implement specific frameworks for strategy and programs Contribute to ZSs capability building and knowledge creation Coach, mentor, and conduct training programs Play an active role in India office growth related initiatives (e.g. recruiting, training, etc.). Required Candidate profile Managers have 8 - 12 years work experience in industry through consulting work or within an industry leader (a combination of experience is preferred) BE/ B.Tech / BS (stats) from Tier-1 institute would be required. PhD in Computer Science (OR Statistics) / M.Tech / MS from a premier institute would be highly preferred Substantial experience in Machine Learning Knowledge of big data/ advanced analytics concepts and algorithms text mining, social listening, recommender systems, predictive modeling, etc. Knowledge of programming Java/Python/R Exposure to tools/platforms Hadoop eco system and DB systems Agile project planning and project management skills Excellent communication skills In addition, we seek individuals with the following Desire to make a business impact for our clients Leadership experience Personal initiative and strong work ethic Self-motivation and detail orientation Organization & planning skills Communication skills Salary: Not Disclosed by Recruiter Industry: Strategy / Management Consulting Firms Functional Area: Other',\n",
       "       'Head/VP/GM-Recruitment', 'Lecturer/Professor',\n",
       "       'Sales/Business Development Manager', 'Head/VP/GM-Operations',\n",
       "       'HR Manager', 'Sales Executive/Officer', 'Business Analyst',\n",
       "       'Software Developer', 'Head/VP/GM-Regulatory Affairs',\n",
       "       'Business Analyst', 'Factory Head', 'Architect',\n",
       "       'Sales Executive/Officer', 'Fresher', 'Head/VP/GM-HR',\n",
       "       'Sales/Business Development Manager',\n",
       "       'Housekeeping Executive/Assistant.',\n",
       "       'Accounts Executive/Accountant', 'HR Manager', 'System Analyst',\n",
       "       'Accounts Executive/Accountant', 'Team Lead/Technical Lead',\n",
       "       'Technical Support Engineer', 'Software Developer',\n",
       "       'Software Developer', 'Technical Lead/Project Lead',\n",
       "       'Business Analyst', 'Technical Architect',\n",
       "       'Head/VP/GM/National Manager -Sales', 'Intern',\n",
       "       'Outside Technical Consultant',\n",
       "       'Sales/Business Development Manager',\n",
       "       'Head/VP/GM/National Manager -Sales', 'Production Manager',\n",
       "       'Software Developer', 'Social Media Marketing Manager',\n",
       "       'Sales Executive/Officer', 'Recruitment Executive',\n",
       "       'Outside Consultant', 'IT/Networking-Manager', 'Marketing Manager',\n",
       "       'Software Developer', 'Software Developer',\n",
       "       'Technical Support Engineer', 'Software Developer',\n",
       "       'Pre Sales Consultant', 'Head/VP/GM/National Manager -Sales',\n",
       "       'Content Developer', 'Sales Executive/Officer',\n",
       "       'Software Developer', 'Documentation/Medical Writing',\n",
       "       'Logistics Manager', 'Software Developer', 'Nurse', 'Fresher',\n",
       "       'Equity Manager', 'Data Analyst',\n",
       "       'Associate/Senior Associate -(NonTechnical)', 'Software Developer',\n",
       "       'Accounts Executive/Accountant', 'Physics Teacher',\n",
       "       'System Administrator',\n",
       "       'Telesales/Telemarketing Executive/Officer', 'Training Manager',\n",
       "       'Product/Brand Manager', 'Draughtsman', 'Team Lead/Technical Lead',\n",
       "       'Accounts Executive/Accountant', 'Software Developer',\n",
       "       'Team Lead/Technical Lead', 'Software Developer',\n",
       "       'Software Developer', 'Project Manager-IT/Software',\n",
       "       'Functional Outside Consultant', 'Software Developer',\n",
       "       'Software Developer', 'Pay Roll/Compensation Manager', 'Architect',\n",
       "       'Associate/Senior Associate -(NonTechnical)', 'Software Developer',\n",
       "       'Area Sales Manager', 'ERP Consultant',\n",
       "       'Sales/Business Development Manager', 'Software Developer',\n",
       "       'Web Designer', 'Associate/Senior Associate -(NonTechnical)'],\n",
       "      dtype=object)"
      ]
     },
     "execution_count": 94,
     "metadata": {},
     "output_type": "execute_result"
    }
   ],
   "source": [
    "newdf['Role'].values"
   ]
  },
  {
   "cell_type": "code",
   "execution_count": 95,
   "id": "3415778d-bd70-4682-a98a-862f15468ebc",
   "metadata": {},
   "outputs": [],
   "source": [
    "pickle.dump(similarity,open('similarity.pkl','wb'))"
   ]
  },
  {
   "cell_type": "code",
   "execution_count": 96,
   "id": "cbb4d15d-fe39-46b3-a599-9221837839ce",
   "metadata": {},
   "outputs": [],
   "source": [
    "# pickle.dump(df_.to_dict(),open('info.pkl','wb'))"
   ]
  },
  {
   "cell_type": "code",
   "execution_count": null,
   "id": "73b124ff-be6c-445f-9417-df6a20335afb",
   "metadata": {},
   "outputs": [],
   "source": []
  }
 ],
 "metadata": {
  "kernelspec": {
   "display_name": "Python 3 (ipykernel)",
   "language": "python",
   "name": "python3"
  },
  "language_info": {
   "codemirror_mode": {
    "name": "ipython",
    "version": 3
   },
   "file_extension": ".py",
   "mimetype": "text/x-python",
   "name": "python",
   "nbconvert_exporter": "python",
   "pygments_lexer": "ipython3",
   "version": "3.11.7"
  }
 },
 "nbformat": 4,
 "nbformat_minor": 5
}
